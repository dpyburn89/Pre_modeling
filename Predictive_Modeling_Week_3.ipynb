{
  "cells": [
    {
      "cell_type": "markdown",
      "metadata": {
        "id": "view-in-github",
        "colab_type": "text"
      },
      "source": [
        "<a href=\"https://colab.research.google.com/github/dpyburn89/Pre_modeling/blob/main/Predictive_Modeling_Week_3.ipynb\" target=\"_parent\"><img src=\"https://colab.research.google.com/assets/colab-badge.svg\" alt=\"Open In Colab\"/></a>"
      ]
    },
    {
      "cell_type": "markdown",
      "id": "a1ee4edf",
      "metadata": {
        "id": "a1ee4edf"
      },
      "source": [
        "# Predictive Modeling - Week 3\n",
        "## Lecture Examples"
      ]
    },
    {
      "cell_type": "code",
      "execution_count": null,
      "id": "d48ecd02",
      "metadata": {
        "id": "d48ecd02"
      },
      "outputs": [],
      "source": []
    },
    {
      "cell_type": "code",
      "execution_count": null,
      "id": "bccc558c",
      "metadata": {
        "scrolled": true,
        "colab": {
          "base_uri": "https://localhost:8080/",
          "height": 270
        },
        "id": "bccc558c",
        "outputId": "13b9d337-3aa3-43dc-d98a-8d78cb2e261e"
      },
      "outputs": [
        {
          "output_type": "execute_result",
          "data": {
            "text/plain": [
              "   EngDispl  NumCyl Transmission       FE AirAspirationMethod  NumGears  \\\n",
              "0       4.7       8          AM6  28.0198  NaturallyAspirated         6   \n",
              "1       4.7       8           M6  25.6094  NaturallyAspirated         6   \n",
              "2       4.2       8           M6  26.8000  NaturallyAspirated         6   \n",
              "3       4.2       8          AM6  25.0451  NaturallyAspirated         6   \n",
              "4       5.2      10          AM6  24.8000  NaturallyAspirated         6   \n",
              "\n",
              "   TransLockup  TransCreeperGear          DriveDesc  IntakeValvePerCyl  \\\n",
              "0            1                 0  TwoWheelDriveRear                  2   \n",
              "1            1                 0  TwoWheelDriveRear                  2   \n",
              "2            1                 0      AllWheelDrive                  2   \n",
              "3            1                 0      AllWheelDrive                  2   \n",
              "4            0                 0      AllWheelDrive                  2   \n",
              "\n",
              "   ExhaustValvesPerCyl CarlineClassDesc  VarValveTiming  VarValveLift  \n",
              "0                    2         2Seaters               1             0  \n",
              "1                    2         2Seaters               1             0  \n",
              "2                    2         2Seaters               1             0  \n",
              "3                    2         2Seaters               1             0  \n",
              "4                    2         2Seaters               1             0  "
            ],
            "text/html": [
              "\n",
              "  <div id=\"df-1a56222b-1e72-48bf-9d92-39ce3274f5e9\">\n",
              "    <div class=\"colab-df-container\">\n",
              "      <div>\n",
              "<style scoped>\n",
              "    .dataframe tbody tr th:only-of-type {\n",
              "        vertical-align: middle;\n",
              "    }\n",
              "\n",
              "    .dataframe tbody tr th {\n",
              "        vertical-align: top;\n",
              "    }\n",
              "\n",
              "    .dataframe thead th {\n",
              "        text-align: right;\n",
              "    }\n",
              "</style>\n",
              "<table border=\"1\" class=\"dataframe\">\n",
              "  <thead>\n",
              "    <tr style=\"text-align: right;\">\n",
              "      <th></th>\n",
              "      <th>EngDispl</th>\n",
              "      <th>NumCyl</th>\n",
              "      <th>Transmission</th>\n",
              "      <th>FE</th>\n",
              "      <th>AirAspirationMethod</th>\n",
              "      <th>NumGears</th>\n",
              "      <th>TransLockup</th>\n",
              "      <th>TransCreeperGear</th>\n",
              "      <th>DriveDesc</th>\n",
              "      <th>IntakeValvePerCyl</th>\n",
              "      <th>ExhaustValvesPerCyl</th>\n",
              "      <th>CarlineClassDesc</th>\n",
              "      <th>VarValveTiming</th>\n",
              "      <th>VarValveLift</th>\n",
              "    </tr>\n",
              "  </thead>\n",
              "  <tbody>\n",
              "    <tr>\n",
              "      <th>0</th>\n",
              "      <td>4.7</td>\n",
              "      <td>8</td>\n",
              "      <td>AM6</td>\n",
              "      <td>28.0198</td>\n",
              "      <td>NaturallyAspirated</td>\n",
              "      <td>6</td>\n",
              "      <td>1</td>\n",
              "      <td>0</td>\n",
              "      <td>TwoWheelDriveRear</td>\n",
              "      <td>2</td>\n",
              "      <td>2</td>\n",
              "      <td>2Seaters</td>\n",
              "      <td>1</td>\n",
              "      <td>0</td>\n",
              "    </tr>\n",
              "    <tr>\n",
              "      <th>1</th>\n",
              "      <td>4.7</td>\n",
              "      <td>8</td>\n",
              "      <td>M6</td>\n",
              "      <td>25.6094</td>\n",
              "      <td>NaturallyAspirated</td>\n",
              "      <td>6</td>\n",
              "      <td>1</td>\n",
              "      <td>0</td>\n",
              "      <td>TwoWheelDriveRear</td>\n",
              "      <td>2</td>\n",
              "      <td>2</td>\n",
              "      <td>2Seaters</td>\n",
              "      <td>1</td>\n",
              "      <td>0</td>\n",
              "    </tr>\n",
              "    <tr>\n",
              "      <th>2</th>\n",
              "      <td>4.2</td>\n",
              "      <td>8</td>\n",
              "      <td>M6</td>\n",
              "      <td>26.8000</td>\n",
              "      <td>NaturallyAspirated</td>\n",
              "      <td>6</td>\n",
              "      <td>1</td>\n",
              "      <td>0</td>\n",
              "      <td>AllWheelDrive</td>\n",
              "      <td>2</td>\n",
              "      <td>2</td>\n",
              "      <td>2Seaters</td>\n",
              "      <td>1</td>\n",
              "      <td>0</td>\n",
              "    </tr>\n",
              "    <tr>\n",
              "      <th>3</th>\n",
              "      <td>4.2</td>\n",
              "      <td>8</td>\n",
              "      <td>AM6</td>\n",
              "      <td>25.0451</td>\n",
              "      <td>NaturallyAspirated</td>\n",
              "      <td>6</td>\n",
              "      <td>1</td>\n",
              "      <td>0</td>\n",
              "      <td>AllWheelDrive</td>\n",
              "      <td>2</td>\n",
              "      <td>2</td>\n",
              "      <td>2Seaters</td>\n",
              "      <td>1</td>\n",
              "      <td>0</td>\n",
              "    </tr>\n",
              "    <tr>\n",
              "      <th>4</th>\n",
              "      <td>5.2</td>\n",
              "      <td>10</td>\n",
              "      <td>AM6</td>\n",
              "      <td>24.8000</td>\n",
              "      <td>NaturallyAspirated</td>\n",
              "      <td>6</td>\n",
              "      <td>0</td>\n",
              "      <td>0</td>\n",
              "      <td>AllWheelDrive</td>\n",
              "      <td>2</td>\n",
              "      <td>2</td>\n",
              "      <td>2Seaters</td>\n",
              "      <td>1</td>\n",
              "      <td>0</td>\n",
              "    </tr>\n",
              "  </tbody>\n",
              "</table>\n",
              "</div>\n",
              "      <button class=\"colab-df-convert\" onclick=\"convertToInteractive('df-1a56222b-1e72-48bf-9d92-39ce3274f5e9')\"\n",
              "              title=\"Convert this dataframe to an interactive table.\"\n",
              "              style=\"display:none;\">\n",
              "        \n",
              "  <svg xmlns=\"http://www.w3.org/2000/svg\" height=\"24px\"viewBox=\"0 0 24 24\"\n",
              "       width=\"24px\">\n",
              "    <path d=\"M0 0h24v24H0V0z\" fill=\"none\"/>\n",
              "    <path d=\"M18.56 5.44l.94 2.06.94-2.06 2.06-.94-2.06-.94-.94-2.06-.94 2.06-2.06.94zm-11 1L8.5 8.5l.94-2.06 2.06-.94-2.06-.94L8.5 2.5l-.94 2.06-2.06.94zm10 10l.94 2.06.94-2.06 2.06-.94-2.06-.94-.94-2.06-.94 2.06-2.06.94z\"/><path d=\"M17.41 7.96l-1.37-1.37c-.4-.4-.92-.59-1.43-.59-.52 0-1.04.2-1.43.59L10.3 9.45l-7.72 7.72c-.78.78-.78 2.05 0 2.83L4 21.41c.39.39.9.59 1.41.59.51 0 1.02-.2 1.41-.59l7.78-7.78 2.81-2.81c.8-.78.8-2.07 0-2.86zM5.41 20L4 18.59l7.72-7.72 1.47 1.35L5.41 20z\"/>\n",
              "  </svg>\n",
              "      </button>\n",
              "      \n",
              "  <style>\n",
              "    .colab-df-container {\n",
              "      display:flex;\n",
              "      flex-wrap:wrap;\n",
              "      gap: 12px;\n",
              "    }\n",
              "\n",
              "    .colab-df-convert {\n",
              "      background-color: #E8F0FE;\n",
              "      border: none;\n",
              "      border-radius: 50%;\n",
              "      cursor: pointer;\n",
              "      display: none;\n",
              "      fill: #1967D2;\n",
              "      height: 32px;\n",
              "      padding: 0 0 0 0;\n",
              "      width: 32px;\n",
              "    }\n",
              "\n",
              "    .colab-df-convert:hover {\n",
              "      background-color: #E2EBFA;\n",
              "      box-shadow: 0px 1px 2px rgba(60, 64, 67, 0.3), 0px 1px 3px 1px rgba(60, 64, 67, 0.15);\n",
              "      fill: #174EA6;\n",
              "    }\n",
              "\n",
              "    [theme=dark] .colab-df-convert {\n",
              "      background-color: #3B4455;\n",
              "      fill: #D2E3FC;\n",
              "    }\n",
              "\n",
              "    [theme=dark] .colab-df-convert:hover {\n",
              "      background-color: #434B5C;\n",
              "      box-shadow: 0px 1px 3px 1px rgba(0, 0, 0, 0.15);\n",
              "      filter: drop-shadow(0px 1px 2px rgba(0, 0, 0, 0.3));\n",
              "      fill: #FFFFFF;\n",
              "    }\n",
              "  </style>\n",
              "\n",
              "      <script>\n",
              "        const buttonEl =\n",
              "          document.querySelector('#df-1a56222b-1e72-48bf-9d92-39ce3274f5e9 button.colab-df-convert');\n",
              "        buttonEl.style.display =\n",
              "          google.colab.kernel.accessAllowed ? 'block' : 'none';\n",
              "\n",
              "        async function convertToInteractive(key) {\n",
              "          const element = document.querySelector('#df-1a56222b-1e72-48bf-9d92-39ce3274f5e9');\n",
              "          const dataTable =\n",
              "            await google.colab.kernel.invokeFunction('convertToInteractive',\n",
              "                                                     [key], {});\n",
              "          if (!dataTable) return;\n",
              "\n",
              "          const docLinkHtml = 'Like what you see? Visit the ' +\n",
              "            '<a target=\"_blank\" href=https://colab.research.google.com/notebooks/data_table.ipynb>data table notebook</a>'\n",
              "            + ' to learn more about interactive tables.';\n",
              "          element.innerHTML = '';\n",
              "          dataTable['output_type'] = 'display_data';\n",
              "          await google.colab.output.renderOutput(dataTable, element);\n",
              "          const docLink = document.createElement('div');\n",
              "          docLink.innerHTML = docLinkHtml;\n",
              "          element.appendChild(docLink);\n",
              "        }\n",
              "      </script>\n",
              "    </div>\n",
              "  </div>\n",
              "  "
            ]
          },
          "metadata": {},
          "execution_count": 3
        }
      ],
      "source": [
        "import pandas as pd\n",
        "\n",
        "data = pd.read_csv('/content/drive/MyDrive/Predictive Modeling/cars2010.csv')\n",
        "data.head()"
      ]
    },
    {
      "cell_type": "code",
      "source": [
        "from google.colab import drive\n",
        "drive.mount('/content/drive')"
      ],
      "metadata": {
        "colab": {
          "base_uri": "https://localhost:8080/"
        },
        "id": "C_5sp-gsIEO2",
        "outputId": "69809f29-05a3-46fb-b5b0-b4848626c694"
      },
      "id": "C_5sp-gsIEO2",
      "execution_count": null,
      "outputs": [
        {
          "output_type": "stream",
          "name": "stdout",
          "text": [
            "Mounted at /content/drive\n"
          ]
        }
      ]
    },
    {
      "cell_type": "code",
      "execution_count": null,
      "id": "998bc920",
      "metadata": {
        "colab": {
          "base_uri": "https://localhost:8080/"
        },
        "id": "998bc920",
        "outputId": "b36c6eb2-ee6c-4ef8-f80f-4fb66331fa13"
      },
      "outputs": [
        {
          "output_type": "execute_result",
          "data": {
            "text/plain": [
              "(1107, 14)"
            ]
          },
          "metadata": {},
          "execution_count": 3
        }
      ],
      "source": [
        "data.shape"
      ]
    },
    {
      "cell_type": "code",
      "execution_count": null,
      "id": "1f3e4adc",
      "metadata": {
        "colab": {
          "base_uri": "https://localhost:8080/"
        },
        "id": "1f3e4adc",
        "outputId": "5c2d8850-b433-4b64-e93b-fc18b1e1a5d6"
      },
      "outputs": [
        {
          "output_type": "execute_result",
          "data": {
            "text/plain": [
              "0       TwoWheelDriveRear\n",
              "1       TwoWheelDriveRear\n",
              "2           AllWheelDrive\n",
              "3           AllWheelDrive\n",
              "4           AllWheelDrive\n",
              "              ...        \n",
              "1102        AllWheelDrive\n",
              "1103        AllWheelDrive\n",
              "1104        AllWheelDrive\n",
              "1105        AllWheelDrive\n",
              "1106        AllWheelDrive\n",
              "Name: DriveDesc, Length: 1107, dtype: object"
            ]
          },
          "metadata": {},
          "execution_count": 4
        }
      ],
      "source": [
        "data['DriveDesc']"
      ]
    },
    {
      "cell_type": "code",
      "execution_count": null,
      "id": "c13b9a6c",
      "metadata": {
        "colab": {
          "base_uri": "https://localhost:8080/"
        },
        "id": "c13b9a6c",
        "outputId": "acf60536-c165-4460-ef33-d31d78126951"
      },
      "outputs": [
        {
          "output_type": "execute_result",
          "data": {
            "text/plain": [
              "TwoWheelDriveFront        382\n",
              "TwoWheelDriveRear         350\n",
              "AllWheelDrive             205\n",
              "FourWheelDrive            159\n",
              "ParttimeFourWheelDrive     11\n",
              "Name: DriveDesc, dtype: int64"
            ]
          },
          "metadata": {},
          "execution_count": 4
        }
      ],
      "source": [
        "data['DriveDesc'].value_counts()"
      ]
    },
    {
      "cell_type": "code",
      "execution_count": null,
      "id": "201885fe",
      "metadata": {
        "scrolled": true,
        "colab": {
          "base_uri": "https://localhost:8080/"
        },
        "id": "201885fe",
        "outputId": "b113d731-f96c-4a7c-ea59-823adf6dc15d"
      },
      "outputs": [
        {
          "output_type": "execute_result",
          "data": {
            "text/plain": [
              "(array([0, 0, 1, ..., 1, 1, 1]),\n",
              " Index(['TwoWheelDriveRear', 'AllWheelDrive', 'TwoWheelDriveFront',\n",
              "        'FourWheelDrive', 'ParttimeFourWheelDrive'],\n",
              "       dtype='object'))"
            ]
          },
          "metadata": {},
          "execution_count": 5
        }
      ],
      "source": [
        "levels = pd.factorize(data['DriveDesc'])\n",
        "levels\n",
        "# Here we're giving a numeric value to the categorical variables. Levels now has two parts, one is the array of integers, the other is the name\n"
      ]
    },
    {
      "cell_type": "code",
      "execution_count": null,
      "id": "1481f65b",
      "metadata": {
        "colab": {
          "base_uri": "https://localhost:8080/"
        },
        "id": "1481f65b",
        "outputId": "7df91f2a-7711-4600-ee9e-92ed4e7f1818"
      },
      "outputs": [
        {
          "output_type": "execute_result",
          "data": {
            "text/plain": [
              "['TwoWheelDriveRear',\n",
              " 'AllWheelDrive',\n",
              " 'TwoWheelDriveFront',\n",
              " 'FourWheelDrive',\n",
              " 'ParttimeFourWheelDrive']"
            ]
          },
          "metadata": {},
          "execution_count": 11
        }
      ],
      "source": [
        "#levels[0]\n",
        "#levels[1]\n",
        "levels[1].tolist() # Here we converted to a list just because it's easier to see/understand"
      ]
    },
    {
      "cell_type": "code",
      "execution_count": null,
      "id": "b2430dff",
      "metadata": {
        "scrolled": true,
        "id": "b2430dff"
      },
      "outputs": [],
      "source": [
        "data['DriveDesc_Factor'] = pd.factorize(data['DriveDesc'])[0] # we're factorizing and taking out the array of indexes and creating a new column"
      ]
    },
    {
      "cell_type": "code",
      "execution_count": null,
      "id": "0d1a7562",
      "metadata": {
        "scrolled": false,
        "colab": {
          "base_uri": "https://localhost:8080/",
          "height": 424
        },
        "id": "0d1a7562",
        "outputId": "3ca8f12a-4f6d-4ce1-9940-969be6793499"
      },
      "outputs": [
        {
          "output_type": "execute_result",
          "data": {
            "text/plain": [
              "              DriveDesc  DriveDesc_Factor\n",
              "0     TwoWheelDriveRear                 0\n",
              "1     TwoWheelDriveRear                 0\n",
              "2         AllWheelDrive                 1\n",
              "3         AllWheelDrive                 1\n",
              "4         AllWheelDrive                 1\n",
              "...                 ...               ...\n",
              "1102      AllWheelDrive                 1\n",
              "1103      AllWheelDrive                 1\n",
              "1104      AllWheelDrive                 1\n",
              "1105      AllWheelDrive                 1\n",
              "1106      AllWheelDrive                 1\n",
              "\n",
              "[1107 rows x 2 columns]"
            ],
            "text/html": [
              "\n",
              "  <div id=\"df-83a18644-1cea-4d35-8d88-7b787360283f\">\n",
              "    <div class=\"colab-df-container\">\n",
              "      <div>\n",
              "<style scoped>\n",
              "    .dataframe tbody tr th:only-of-type {\n",
              "        vertical-align: middle;\n",
              "    }\n",
              "\n",
              "    .dataframe tbody tr th {\n",
              "        vertical-align: top;\n",
              "    }\n",
              "\n",
              "    .dataframe thead th {\n",
              "        text-align: right;\n",
              "    }\n",
              "</style>\n",
              "<table border=\"1\" class=\"dataframe\">\n",
              "  <thead>\n",
              "    <tr style=\"text-align: right;\">\n",
              "      <th></th>\n",
              "      <th>DriveDesc</th>\n",
              "      <th>DriveDesc_Factor</th>\n",
              "    </tr>\n",
              "  </thead>\n",
              "  <tbody>\n",
              "    <tr>\n",
              "      <th>0</th>\n",
              "      <td>TwoWheelDriveRear</td>\n",
              "      <td>0</td>\n",
              "    </tr>\n",
              "    <tr>\n",
              "      <th>1</th>\n",
              "      <td>TwoWheelDriveRear</td>\n",
              "      <td>0</td>\n",
              "    </tr>\n",
              "    <tr>\n",
              "      <th>2</th>\n",
              "      <td>AllWheelDrive</td>\n",
              "      <td>1</td>\n",
              "    </tr>\n",
              "    <tr>\n",
              "      <th>3</th>\n",
              "      <td>AllWheelDrive</td>\n",
              "      <td>1</td>\n",
              "    </tr>\n",
              "    <tr>\n",
              "      <th>4</th>\n",
              "      <td>AllWheelDrive</td>\n",
              "      <td>1</td>\n",
              "    </tr>\n",
              "    <tr>\n",
              "      <th>...</th>\n",
              "      <td>...</td>\n",
              "      <td>...</td>\n",
              "    </tr>\n",
              "    <tr>\n",
              "      <th>1102</th>\n",
              "      <td>AllWheelDrive</td>\n",
              "      <td>1</td>\n",
              "    </tr>\n",
              "    <tr>\n",
              "      <th>1103</th>\n",
              "      <td>AllWheelDrive</td>\n",
              "      <td>1</td>\n",
              "    </tr>\n",
              "    <tr>\n",
              "      <th>1104</th>\n",
              "      <td>AllWheelDrive</td>\n",
              "      <td>1</td>\n",
              "    </tr>\n",
              "    <tr>\n",
              "      <th>1105</th>\n",
              "      <td>AllWheelDrive</td>\n",
              "      <td>1</td>\n",
              "    </tr>\n",
              "    <tr>\n",
              "      <th>1106</th>\n",
              "      <td>AllWheelDrive</td>\n",
              "      <td>1</td>\n",
              "    </tr>\n",
              "  </tbody>\n",
              "</table>\n",
              "<p>1107 rows × 2 columns</p>\n",
              "</div>\n",
              "      <button class=\"colab-df-convert\" onclick=\"convertToInteractive('df-83a18644-1cea-4d35-8d88-7b787360283f')\"\n",
              "              title=\"Convert this dataframe to an interactive table.\"\n",
              "              style=\"display:none;\">\n",
              "        \n",
              "  <svg xmlns=\"http://www.w3.org/2000/svg\" height=\"24px\"viewBox=\"0 0 24 24\"\n",
              "       width=\"24px\">\n",
              "    <path d=\"M0 0h24v24H0V0z\" fill=\"none\"/>\n",
              "    <path d=\"M18.56 5.44l.94 2.06.94-2.06 2.06-.94-2.06-.94-.94-2.06-.94 2.06-2.06.94zm-11 1L8.5 8.5l.94-2.06 2.06-.94-2.06-.94L8.5 2.5l-.94 2.06-2.06.94zm10 10l.94 2.06.94-2.06 2.06-.94-2.06-.94-.94-2.06-.94 2.06-2.06.94z\"/><path d=\"M17.41 7.96l-1.37-1.37c-.4-.4-.92-.59-1.43-.59-.52 0-1.04.2-1.43.59L10.3 9.45l-7.72 7.72c-.78.78-.78 2.05 0 2.83L4 21.41c.39.39.9.59 1.41.59.51 0 1.02-.2 1.41-.59l7.78-7.78 2.81-2.81c.8-.78.8-2.07 0-2.86zM5.41 20L4 18.59l7.72-7.72 1.47 1.35L5.41 20z\"/>\n",
              "  </svg>\n",
              "      </button>\n",
              "      \n",
              "  <style>\n",
              "    .colab-df-container {\n",
              "      display:flex;\n",
              "      flex-wrap:wrap;\n",
              "      gap: 12px;\n",
              "    }\n",
              "\n",
              "    .colab-df-convert {\n",
              "      background-color: #E8F0FE;\n",
              "      border: none;\n",
              "      border-radius: 50%;\n",
              "      cursor: pointer;\n",
              "      display: none;\n",
              "      fill: #1967D2;\n",
              "      height: 32px;\n",
              "      padding: 0 0 0 0;\n",
              "      width: 32px;\n",
              "    }\n",
              "\n",
              "    .colab-df-convert:hover {\n",
              "      background-color: #E2EBFA;\n",
              "      box-shadow: 0px 1px 2px rgba(60, 64, 67, 0.3), 0px 1px 3px 1px rgba(60, 64, 67, 0.15);\n",
              "      fill: #174EA6;\n",
              "    }\n",
              "\n",
              "    [theme=dark] .colab-df-convert {\n",
              "      background-color: #3B4455;\n",
              "      fill: #D2E3FC;\n",
              "    }\n",
              "\n",
              "    [theme=dark] .colab-df-convert:hover {\n",
              "      background-color: #434B5C;\n",
              "      box-shadow: 0px 1px 3px 1px rgba(0, 0, 0, 0.15);\n",
              "      filter: drop-shadow(0px 1px 2px rgba(0, 0, 0, 0.3));\n",
              "      fill: #FFFFFF;\n",
              "    }\n",
              "  </style>\n",
              "\n",
              "      <script>\n",
              "        const buttonEl =\n",
              "          document.querySelector('#df-83a18644-1cea-4d35-8d88-7b787360283f button.colab-df-convert');\n",
              "        buttonEl.style.display =\n",
              "          google.colab.kernel.accessAllowed ? 'block' : 'none';\n",
              "\n",
              "        async function convertToInteractive(key) {\n",
              "          const element = document.querySelector('#df-83a18644-1cea-4d35-8d88-7b787360283f');\n",
              "          const dataTable =\n",
              "            await google.colab.kernel.invokeFunction('convertToInteractive',\n",
              "                                                     [key], {});\n",
              "          if (!dataTable) return;\n",
              "\n",
              "          const docLinkHtml = 'Like what you see? Visit the ' +\n",
              "            '<a target=\"_blank\" href=https://colab.research.google.com/notebooks/data_table.ipynb>data table notebook</a>'\n",
              "            + ' to learn more about interactive tables.';\n",
              "          element.innerHTML = '';\n",
              "          dataTable['output_type'] = 'display_data';\n",
              "          await google.colab.output.renderOutput(dataTable, element);\n",
              "          const docLink = document.createElement('div');\n",
              "          docLink.innerHTML = docLinkHtml;\n",
              "          element.appendChild(docLink);\n",
              "        }\n",
              "      </script>\n",
              "    </div>\n",
              "  </div>\n",
              "  "
            ]
          },
          "metadata": {},
          "execution_count": 13
        }
      ],
      "source": [
        "data.loc[:,['DriveDesc', 'DriveDesc_Factor']] # Here we're able to visualize the encoding"
      ]
    },
    {
      "cell_type": "code",
      "execution_count": null,
      "id": "f35b07d7",
      "metadata": {
        "colab": {
          "base_uri": "https://localhost:8080/",
          "height": 421
        },
        "id": "f35b07d7",
        "outputId": "a7c08eac-a280-4a3d-d150-3ff11daf5ab9"
      },
      "outputs": [
        {
          "output_type": "execute_result",
          "data": {
            "text/plain": [
              "<matplotlib.legend.Legend at 0x7ff946a40290>"
            ]
          },
          "metadata": {},
          "execution_count": 8
        },
        {
          "output_type": "display_data",
          "data": {
            "text/plain": [
              "<Figure size 432x432 with 1 Axes>"
            ],
            "image/png": "[encoded data removed]"
          },
          "metadata": {
            "needs_background": "light"
          }
        }
      ],
      "source": [
        "import matplotlib.pyplot as plt\n",
        "\n",
        "# Example scatter plot with multiple categories\n",
        "plt.figure(figsize=(6,6))\n",
        "levels=pd.factorize(data['DriveDesc'])\n",
        "scatter = plt.scatter(data['EngDispl'], data['FE'], s=8, alpha=0.5,\n",
        "                      c=levels[0], cmap='Dark2')\n",
        "plt.xlabel('Engine Displacement')\n",
        "plt.ylabel('Fuel Efficiency')\n",
        "plt.title('Scatter Plot')\n",
        "plt.legend(handles=scatter.legend_elements()[0], labels=levels[1].tolist()) # This is the list we created above"
      ]
    },
    {
      "cell_type": "code",
      "execution_count": null,
      "id": "9c8b91ec",
      "metadata": {
        "id": "9c8b91ec"
      },
      "outputs": [],
      "source": [
        "data = pd.concat([data, pd.get_dummies(data['DriveDesc'])], axis=1) # here we're using get dummmies, this is what returns 5 columns and each column is a vector of 0s\n",
        "# and ones. The 1 will be on the row where the column and row description match, values will only have 0 or 1\n",
        "\n",
        "# There is also a similar function in SCIKITLEARN known as onehotencoding()"
      ]
    },
    {
      "cell_type": "code",
      "execution_count": null,
      "id": "997cc768",
      "metadata": {
        "colab": {
          "base_uri": "https://localhost:8080/",
          "height": 206
        },
        "id": "997cc768",
        "outputId": "2c40fc81-612a-40ee-cb42-ae327840e626"
      },
      "outputs": [
        {
          "output_type": "execute_result",
          "data": {
            "text/plain": [
              "                  DriveDesc  DriveDesc_Factor  AllWheelDrive  FourWheelDrive  \\\n",
              "0         TwoWheelDriveRear                 0              0               0   \n",
              "2             AllWheelDrive                 1              1               0   \n",
              "77       TwoWheelDriveFront                 2              0               0   \n",
              "91           FourWheelDrive                 3              0               1   \n",
              "714  ParttimeFourWheelDrive                 4              0               0   \n",
              "\n",
              "     ParttimeFourWheelDrive  TwoWheelDriveFront  TwoWheelDriveRear  \n",
              "0                         0                   0                  1  \n",
              "2                         0                   0                  0  \n",
              "77                        0                   1                  0  \n",
              "91                        0                   0                  0  \n",
              "714                       1                   0                  0  "
            ],
            "text/html": [
              "\n",
              "  <div id=\"df-cb924f0f-b69c-4112-92a7-e7264f6ae565\">\n",
              "    <div class=\"colab-df-container\">\n",
              "      <div>\n",
              "<style scoped>\n",
              "    .dataframe tbody tr th:only-of-type {\n",
              "        vertical-align: middle;\n",
              "    }\n",
              "\n",
              "    .dataframe tbody tr th {\n",
              "        vertical-align: top;\n",
              "    }\n",
              "\n",
              "    .dataframe thead th {\n",
              "        text-align: right;\n",
              "    }\n",
              "</style>\n",
              "<table border=\"1\" class=\"dataframe\">\n",
              "  <thead>\n",
              "    <tr style=\"text-align: right;\">\n",
              "      <th></th>\n",
              "      <th>DriveDesc</th>\n",
              "      <th>DriveDesc_Factor</th>\n",
              "      <th>AllWheelDrive</th>\n",
              "      <th>FourWheelDrive</th>\n",
              "      <th>ParttimeFourWheelDrive</th>\n",
              "      <th>TwoWheelDriveFront</th>\n",
              "      <th>TwoWheelDriveRear</th>\n",
              "    </tr>\n",
              "  </thead>\n",
              "  <tbody>\n",
              "    <tr>\n",
              "      <th>0</th>\n",
              "      <td>TwoWheelDriveRear</td>\n",
              "      <td>0</td>\n",
              "      <td>0</td>\n",
              "      <td>0</td>\n",
              "      <td>0</td>\n",
              "      <td>0</td>\n",
              "      <td>1</td>\n",
              "    </tr>\n",
              "    <tr>\n",
              "      <th>2</th>\n",
              "      <td>AllWheelDrive</td>\n",
              "      <td>1</td>\n",
              "      <td>1</td>\n",
              "      <td>0</td>\n",
              "      <td>0</td>\n",
              "      <td>0</td>\n",
              "      <td>0</td>\n",
              "    </tr>\n",
              "    <tr>\n",
              "      <th>77</th>\n",
              "      <td>TwoWheelDriveFront</td>\n",
              "      <td>2</td>\n",
              "      <td>0</td>\n",
              "      <td>0</td>\n",
              "      <td>0</td>\n",
              "      <td>1</td>\n",
              "      <td>0</td>\n",
              "    </tr>\n",
              "    <tr>\n",
              "      <th>91</th>\n",
              "      <td>FourWheelDrive</td>\n",
              "      <td>3</td>\n",
              "      <td>0</td>\n",
              "      <td>1</td>\n",
              "      <td>0</td>\n",
              "      <td>0</td>\n",
              "      <td>0</td>\n",
              "    </tr>\n",
              "    <tr>\n",
              "      <th>714</th>\n",
              "      <td>ParttimeFourWheelDrive</td>\n",
              "      <td>4</td>\n",
              "      <td>0</td>\n",
              "      <td>0</td>\n",
              "      <td>1</td>\n",
              "      <td>0</td>\n",
              "      <td>0</td>\n",
              "    </tr>\n",
              "  </tbody>\n",
              "</table>\n",
              "</div>\n",
              "      <button class=\"colab-df-convert\" onclick=\"convertToInteractive('df-cb924f0f-b69c-4112-92a7-e7264f6ae565')\"\n",
              "              title=\"Convert this dataframe to an interactive table.\"\n",
              "              style=\"display:none;\">\n",
              "        \n",
              "  <svg xmlns=\"http://www.w3.org/2000/svg\" height=\"24px\"viewBox=\"0 0 24 24\"\n",
              "       width=\"24px\">\n",
              "    <path d=\"M0 0h24v24H0V0z\" fill=\"none\"/>\n",
              "    <path d=\"M18.56 5.44l.94 2.06.94-2.06 2.06-.94-2.06-.94-.94-2.06-.94 2.06-2.06.94zm-11 1L8.5 8.5l.94-2.06 2.06-.94-2.06-.94L8.5 2.5l-.94 2.06-2.06.94zm10 10l.94 2.06.94-2.06 2.06-.94-2.06-.94-.94-2.06-.94 2.06-2.06.94z\"/><path d=\"M17.41 7.96l-1.37-1.37c-.4-.4-.92-.59-1.43-.59-.52 0-1.04.2-1.43.59L10.3 9.45l-7.72 7.72c-.78.78-.78 2.05 0 2.83L4 21.41c.39.39.9.59 1.41.59.51 0 1.02-.2 1.41-.59l7.78-7.78 2.81-2.81c.8-.78.8-2.07 0-2.86zM5.41 20L4 18.59l7.72-7.72 1.47 1.35L5.41 20z\"/>\n",
              "  </svg>\n",
              "      </button>\n",
              "      \n",
              "  <style>\n",
              "    .colab-df-container {\n",
              "      display:flex;\n",
              "      flex-wrap:wrap;\n",
              "      gap: 12px;\n",
              "    }\n",
              "\n",
              "    .colab-df-convert {\n",
              "      background-color: #E8F0FE;\n",
              "      border: none;\n",
              "      border-radius: 50%;\n",
              "      cursor: pointer;\n",
              "      display: none;\n",
              "      fill: #1967D2;\n",
              "      height: 32px;\n",
              "      padding: 0 0 0 0;\n",
              "      width: 32px;\n",
              "    }\n",
              "\n",
              "    .colab-df-convert:hover {\n",
              "      background-color: #E2EBFA;\n",
              "      box-shadow: 0px 1px 2px rgba(60, 64, 67, 0.3), 0px 1px 3px 1px rgba(60, 64, 67, 0.15);\n",
              "      fill: #174EA6;\n",
              "    }\n",
              "\n",
              "    [theme=dark] .colab-df-convert {\n",
              "      background-color: #3B4455;\n",
              "      fill: #D2E3FC;\n",
              "    }\n",
              "\n",
              "    [theme=dark] .colab-df-convert:hover {\n",
              "      background-color: #434B5C;\n",
              "      box-shadow: 0px 1px 3px 1px rgba(0, 0, 0, 0.15);\n",
              "      filter: drop-shadow(0px 1px 2px rgba(0, 0, 0, 0.3));\n",
              "      fill: #FFFFFF;\n",
              "    }\n",
              "  </style>\n",
              "\n",
              "      <script>\n",
              "        const buttonEl =\n",
              "          document.querySelector('#df-cb924f0f-b69c-4112-92a7-e7264f6ae565 button.colab-df-convert');\n",
              "        buttonEl.style.display =\n",
              "          google.colab.kernel.accessAllowed ? 'block' : 'none';\n",
              "\n",
              "        async function convertToInteractive(key) {\n",
              "          const element = document.querySelector('#df-cb924f0f-b69c-4112-92a7-e7264f6ae565');\n",
              "          const dataTable =\n",
              "            await google.colab.kernel.invokeFunction('convertToInteractive',\n",
              "                                                     [key], {});\n",
              "          if (!dataTable) return;\n",
              "\n",
              "          const docLinkHtml = 'Like what you see? Visit the ' +\n",
              "            '<a target=\"_blank\" href=https://colab.research.google.com/notebooks/data_table.ipynb>data table notebook</a>'\n",
              "            + ' to learn more about interactive tables.';\n",
              "          element.innerHTML = '';\n",
              "          dataTable['output_type'] = 'display_data';\n",
              "          await google.colab.output.renderOutput(dataTable, element);\n",
              "          const docLink = document.createElement('div');\n",
              "          docLink.innerHTML = docLinkHtml;\n",
              "          element.appendChild(docLink);\n",
              "        }\n",
              "      </script>\n",
              "    </div>\n",
              "  </div>\n",
              "  "
            ]
          },
          "metadata": {},
          "execution_count": 16
        }
      ],
      "source": [
        "data.loc[[0, 2, 77, 91, 714], ['DriveDesc', 'DriveDesc_Factor', 'AllWheelDrive', 'FourWheelDrive',\n",
        "       'ParttimeFourWheelDrive', 'TwoWheelDriveFront', 'TwoWheelDriveRear']]"
      ]
    },
    {
      "cell_type": "code",
      "execution_count": null,
      "id": "71b6676a",
      "metadata": {
        "scrolled": false,
        "colab": {
          "base_uri": "https://localhost:8080/"
        },
        "id": "71b6676a",
        "outputId": "3b62d9f3-adb1-43da-d9b4-791aeef20ace"
      },
      "outputs": [
        {
          "output_type": "stream",
          "name": "stdout",
          "text": [
            "                            OLS Regression Results                            \n",
            "==============================================================================\n",
            "Dep. Variable:                     FE   R-squared:                       0.798\n",
            "Model:                            OLS   Adj. R-squared:                  0.794\n",
            "Method:                 Least Squares   F-statistic:                     186.3\n",
            "Date:                Tue, 06 Sep 2022   Prob (F-statistic):               0.00\n",
            "Time:                        23:55:13   Log-Likelihood:                -2914.5\n",
            "No. Observations:                1107   AIC:                             5877.\n",
            "Df Residuals:                    1083   BIC:                             5997.\n",
            "Df Model:                          23                                         \n",
            "Covariance Type:            nonrobust                                         \n",
            "====================================================================================================================\n",
            "                                                       coef    std err          t      P>|t|      [0.025      0.975]\n",
            "--------------------------------------------------------------------------------------------------------------------\n",
            "const                                               55.2845      1.033     53.521      0.000      53.258      57.311\n",
            "EngDispl                                            -6.5491      0.551    -11.884      0.000      -7.630      -5.468\n",
            "NumCyl                                              -1.2394      0.143     -8.656      0.000      -1.520      -0.958\n",
            "DriveDesc_FourWheelDrive                             0.0055      0.438      0.013      0.990      -0.854       0.865\n",
            "DriveDesc_ParttimeFourWheelDrive                    -0.7476      1.124     -0.665      0.506      -2.952       1.457\n",
            "DriveDesc_TwoWheelDriveFront                         4.2799      0.379     11.305      0.000       3.537       5.023\n",
            "DriveDesc_TwoWheelDriveRear                          1.8122      0.371      4.889      0.000       1.085       2.539\n",
            "CarlineClassDesc_CompactCars                         1.5475      0.535      2.891      0.004       0.497       2.598\n",
            "CarlineClassDesc_LargeCars                           1.0837      0.602      1.801      0.072      -0.097       2.264\n",
            "CarlineClassDesc_MidsizeCars                         2.0610      0.549      3.756      0.000       0.984       3.138\n",
            "CarlineClassDesc_MinicompactCars                     2.0468      0.661      3.095      0.002       0.749       3.344\n",
            "CarlineClassDesc_Other                              -2.3430      1.231     -1.903      0.057      -4.759       0.073\n",
            "CarlineClassDesc_SmallPickupTrucks2WD               -4.1731      0.766     -5.447      0.000      -5.676      -2.670\n",
            "CarlineClassDesc_SmallPickupTrucks4WD               -2.9075      0.985     -2.952      0.003      -4.840      -0.975\n",
            "CarlineClassDesc_SmallStationWagons                 -0.4130      0.624     -0.661      0.508      -1.638       0.812\n",
            "CarlineClassDesc_SpecialPurposeVehicleSUV2WD        -2.7044      0.563     -4.804      0.000      -3.809      -1.600\n",
            "CarlineClassDesc_SpecialPurposeVehicleSUV4WD        -1.7510      0.606     -2.892      0.004      -2.939      -0.563\n",
            "CarlineClassDesc_SpecialPurposeVehicleminivan2WD    -2.6113      1.045     -2.498      0.013      -4.663      -0.560\n",
            "CarlineClassDesc_StandardPickupTrucks2WD            -2.1428      0.803     -2.668      0.008      -3.719      -0.567\n",
            "CarlineClassDesc_StandardPickupTrucks4WD            -2.3908      0.896     -2.667      0.008      -4.150      -0.632\n",
            "CarlineClassDesc_SubcompactCars                      0.9583      0.540      1.775      0.076      -0.101       2.017\n",
            "CarlineClassDesc_VansCargoTypes                     -4.4376      1.179     -3.765      0.000      -6.750      -2.125\n",
            "CarlineClassDesc_VansPassengerType                  -4.6280      1.769     -2.615      0.009      -8.100      -1.156\n",
            "EngDisplSqr                                          0.5754      0.058      9.850      0.000       0.461       0.690\n",
            "==============================================================================\n",
            "Omnibus:                      231.883   Durbin-Watson:                   1.328\n",
            "Prob(Omnibus):                  0.000   Jarque-Bera (JB):             1680.732\n",
            "Skew:                           0.762   Prob(JB):                         0.00\n",
            "Kurtosis:                       8.841   Cond. No.                         382.\n",
            "==============================================================================\n",
            "\n",
            "Notes:\n",
            "[1] Standard Errors assume that the covariance matrix of the errors is correctly specified.\n"
          ]
        },
        {
          "output_type": "stream",
          "name": "stderr",
          "text": [
            "/usr/local/lib/python3.7/dist-packages/statsmodels/tsa/tsatools.py:142: FutureWarning: In a future version of pandas all arguments of concat except for the argument 'objs' will be keyword-only\n",
            "  x = pd.concat(x[::order], 1)\n"
          ]
        }
      ],
      "source": [
        "# Recall a regression model we developed last week\n",
        "import statsmodels.api as sm\n",
        "\n",
        "y = data['FE']\n",
        "X = pd.get_dummies(data.loc[:, ['EngDispl', 'NumCyl', 'DriveDesc', 'CarlineClassDesc']], drop_first=True)\n",
        "X = sm.add_constant(X)  # Add intercept term to model\n",
        "X['EngDisplSqr'] = X['EngDispl']**2 # Add a quadratic term to model\n",
        "model = sm.OLS(y, X)\n",
        "results = model.fit()\n",
        "print(results.summary())"
      ]
    },
    {
      "cell_type": "code",
      "execution_count": null,
      "id": "78588c1f",
      "metadata": {
        "id": "78588c1f"
      },
      "outputs": [],
      "source": [
        "# Let's simplify this and create a regression model for fuel efficiency (FE) as a linear function of \n",
        "# Engine Displacement and a binary classification of DriveDesc into only two classes (2WD, 4WD)\n",
        "\n",
        "data['TwoWheelDrive_Indicator'] = \\\n",
        "[1 if (i == 'TwoWheelDriveFront') | (i == 'TwoWheelDriveRear') else 0 for i in data['DriveDesc']] # this code is saying to encode as 1 if either labels is true, 0 if else"
      ]
    },
    {
      "cell_type": "code",
      "execution_count": null,
      "id": "08240f6e",
      "metadata": {
        "colab": {
          "base_uri": "https://localhost:8080/",
          "height": 421
        },
        "id": "08240f6e",
        "outputId": "62130236-e082-4153-919c-a8895b0cba4e"
      },
      "outputs": [
        {
          "output_type": "execute_result",
          "data": {
            "text/plain": [
              "<matplotlib.legend.Legend at 0x7f950c59bd90>"
            ]
          },
          "metadata": {},
          "execution_count": 19
        },
        {
          "output_type": "display_data",
          "data": {
            "text/plain": [
              "<Figure size 432x432 with 1 Axes>"
            ],
            "image/png": "[encoded data removed]"
          },
          "metadata": {
            "needs_background": "light"
          }
        }
      ],
      "source": [
        "import matplotlib.pyplot as plt\n",
        "from matplotlib.colors import ListedColormap\n",
        "\n",
        "plt.figure(figsize=(6,6))\n",
        "scatter = plt.scatter(data['EngDispl'], data['FE'], s=8, alpha=0.5,\n",
        "                      c=data['TwoWheelDrive_Indicator'], cmap=ListedColormap(['r','b']))\n",
        "plt.xlabel('Engine Displacement')\n",
        "plt.ylabel('Fuel Efficiency')\n",
        "plt.title('Scatter Plot')\n",
        "plt.legend(*scatter.legend_elements())\n",
        "# It's only two colors because we're using the twowheel drive indicator that we created earlier\n",
        "# Here the blue points are sitting above the red points, which is a pattern we're looking for, color separation. "
      ]
    },
    {
      "cell_type": "code",
      "execution_count": null,
      "id": "a13a6b1c",
      "metadata": {
        "scrolled": false,
        "colab": {
          "base_uri": "https://localhost:8080/"
        },
        "id": "a13a6b1c",
        "outputId": "23744782-1e48-4e42-a59d-93014d63cf38"
      },
      "outputs": [
        {
          "output_type": "stream",
          "name": "stdout",
          "text": [
            "                            OLS Regression Results                            \n",
            "==============================================================================\n",
            "Dep. Variable:                     FE   R-squared:                       0.684\n",
            "Model:                            OLS   Adj. R-squared:                  0.683\n",
            "Method:                 Least Squares   F-statistic:                     1192.\n",
            "Date:                Tue, 06 Sep 2022   Prob (F-statistic):          1.45e-276\n",
            "Time:                        23:59:56   Log-Likelihood:                -3163.6\n",
            "No. Observations:                1107   AIC:                             6333.\n",
            "Df Residuals:                    1104   BIC:                             6348.\n",
            "Df Model:                           2                                         \n",
            "Covariance Type:            nonrobust                                         \n",
            "===========================================================================================\n",
            "                              coef    std err          t      P>|t|      [0.025      0.975]\n",
            "-------------------------------------------------------------------------------------------\n",
            "const                      47.0698      0.433    108.742      0.000      46.220      47.919\n",
            "EngDispl                   -4.2874      0.098    -43.543      0.000      -4.481      -4.094\n",
            "TwoWheelDrive_Indicator     4.0443      0.272     14.893      0.000       3.511       4.577\n",
            "==============================================================================\n",
            "Omnibus:                      211.071   Durbin-Watson:                   1.001\n",
            "Prob(Omnibus):                  0.000   Jarque-Bera (JB):              671.367\n",
            "Skew:                           0.930   Prob(JB):                    1.64e-146\n",
            "Kurtosis:                       6.331   Cond. No.                         14.5\n",
            "==============================================================================\n",
            "\n",
            "Notes:\n",
            "[1] Standard Errors assume that the covariance matrix of the errors is correctly specified.\n",
            "Fuel Efficiency = 47.069817 + -4.287380(Engine Displacement) + 4.044271(TWD Indicator)\n"
          ]
        },
        {
          "output_type": "stream",
          "name": "stderr",
          "text": [
            "/usr/local/lib/python3.7/dist-packages/statsmodels/tsa/tsatools.py:142: FutureWarning: In a future version of pandas all arguments of concat except for the argument 'objs' will be keyword-only\n",
            "  x = pd.concat(x[::order], 1)\n"
          ]
        }
      ],
      "source": [
        "import statsmodels.api as sm\n",
        "\n",
        "y = data['FE']\n",
        "X = data.loc[:, ['EngDispl', 'TwoWheelDrive_Indicator']]\n",
        "X = sm.add_constant(X)  # Add intercept term to model\n",
        "model = sm.OLS(y, X)\n",
        "results = model.fit()\n",
        "print(results.summary())\n",
        "print(\"Fuel Efficiency = {:.6f} + {:.6f}(Engine Displacement) + {:.6f}(TWD Indicator)\".format(results.params[0], results.params[1], results.params[2]))\n",
        "\n",
        "#The way the chart above is coded, if it's blue (1), the car is described as 2wd. If red, (0), it's 4wd. Shows better efficiency with 2wd v 4wd in chart"
      ]
    },
    {
      "cell_type": "code",
      "execution_count": null,
      "id": "a3f76d86",
      "metadata": {
        "scrolled": false,
        "colab": {
          "base_uri": "https://localhost:8080/",
          "height": 421
        },
        "id": "a3f76d86",
        "outputId": "3ebe93f1-ae10-4084-8dc8-8deada4c68a3"
      },
      "outputs": [
        {
          "output_type": "execute_result",
          "data": {
            "text/plain": [
              "[<matplotlib.lines.Line2D at 0x7f950c490110>]"
            ]
          },
          "metadata": {},
          "execution_count": 21
        },
        {
          "output_type": "display_data",
          "data": {
            "text/plain": [
              "<Figure size 432x432 with 1 Axes>"
            ],
            "image/png": "[encoded data removed]"
          },
          "metadata": {
            "needs_background": "light"
          }
        }
      ],
      "source": [
        "import numpy as np\n",
        "\n",
        "plt.figure(figsize=(6,6))\n",
        "scatter = plt.scatter(data['EngDispl'], data['FE'], s=8, alpha=0.5,\n",
        "                      c=data['TwoWheelDrive_Indicator'], cmap=ListedColormap(['r','b']))\n",
        "plt.xlabel('Engine Displacement')\n",
        "plt.ylabel('Fuel Efficiency')\n",
        "plt.title('Scatter Plot')\n",
        "plt.legend(*scatter.legend_elements())\n",
        "\n",
        "# add linear regression lines to scatterplot \n",
        "xseq = np.linspace(0, 10, num=100)\n",
        "plt.plot(xseq, results.params[1]*xseq+results.params[0], ls='dashed', c='r')\n",
        "xseq = np.linspace(0, 10, num=100)\n",
        "plt.plot(xseq, results.params[1]*xseq+results.params[0]+results.params[2], ls='dashed', c='b')\n",
        "# Here we're fitting two regression lines, one for 2WD and another for 4WD. This is because if the car is 4WD the indicator is 0, the term is removed from the equation\n",
        "# Here we're just visualizing the regression line, you can see when indicator is 1 (2WD), fuel efficiency is greater"
      ]
    },
    {
      "cell_type": "code",
      "execution_count": null,
      "id": "b7e4a4af",
      "metadata": {
        "scrolled": true,
        "id": "b7e4a4af"
      },
      "outputs": [],
      "source": [
        "#print(y)\n",
        "print(X)\n",
        "#print(results.params)\n",
        "#print(results.rsquared)"
      ]
    },
    {
      "cell_type": "code",
      "execution_count": null,
      "id": "1d5ab1f4",
      "metadata": {
        "id": "1d5ab1f4"
      },
      "outputs": [],
      "source": [
        "# Last week we accounted for curvature in the graph by adding a quadratic term.\n",
        "# This week, let's use the log transformation\n",
        "data['LogEngDispl'] = np.log(data['EngDispl']) # We're creating the log value of engine displacement and adding the column to the data"
      ]
    },
    {
      "cell_type": "code",
      "execution_count": null,
      "id": "79a1ba2e",
      "metadata": {
        "colab": {
          "base_uri": "https://localhost:8080/",
          "height": 421
        },
        "id": "79a1ba2e",
        "outputId": "9384e01e-cd9f-4287-c722-34fb4bae9f19"
      },
      "outputs": [
        {
          "output_type": "execute_result",
          "data": {
            "text/plain": [
              "<matplotlib.legend.Legend at 0x7f9525899650>"
            ]
          },
          "metadata": {},
          "execution_count": 23
        },
        {
          "output_type": "display_data",
          "data": {
            "text/plain": [
              "<Figure size 432x432 with 1 Axes>"
            ],
            "image/png": "[encoded data removed]"
          },
          "metadata": {
            "needs_background": "light"
          }
        }
      ],
      "source": [
        "import matplotlib.pyplot as plt\n",
        "from matplotlib.colors import ListedColormap\n",
        "\n",
        "plt.figure(figsize=(6,6))\n",
        "scatter = plt.scatter(data['LogEngDispl'], data['FE'], s=8, alpha=0.5,\n",
        "                      c=data['TwoWheelDrive_Indicator'], cmap=ListedColormap(['r','b']))\n",
        "plt.xlabel('Log of Engine Displacement')\n",
        "plt.ylabel('Fuel Efficiency')\n",
        "plt.title('Scatter Plot')\n",
        "plt.legend(*scatter.legend_elements())"
      ]
    },
    {
      "cell_type": "code",
      "execution_count": null,
      "id": "f48e05bf",
      "metadata": {
        "colab": {
          "base_uri": "https://localhost:8080/"
        },
        "id": "f48e05bf",
        "outputId": "5170b41e-50c8-48a7-a0d1-33ecffb170e9"
      },
      "outputs": [
        {
          "output_type": "stream",
          "name": "stdout",
          "text": [
            "                            OLS Regression Results                            \n",
            "==============================================================================\n",
            "Dep. Variable:                     FE   R-squared:                       0.723\n",
            "Model:                            OLS   Adj. R-squared:                  0.723\n",
            "Method:                 Least Squares   F-statistic:                     1441.\n",
            "Date:                Wed, 07 Sep 2022   Prob (F-statistic):          1.76e-308\n",
            "Time:                        00:09:47   Log-Likelihood:                -3089.9\n",
            "No. Observations:                1107   AIC:                             6186.\n",
            "Df Residuals:                    1104   BIC:                             6201.\n",
            "Df Model:                           2                                         \n",
            "Covariance Type:            nonrobust                                         \n",
            "===========================================================================================\n",
            "                              coef    std err          t      P>|t|      [0.025      0.975]\n",
            "-------------------------------------------------------------------------------------------\n",
            "const                      50.8321      0.463    109.739      0.000      49.923      51.741\n",
            "LogEngDispl               -15.5818      0.323    -48.199      0.000     -16.216     -14.948\n",
            "TwoWheelDrive_Indicator     3.5591      0.256     13.925      0.000       3.058       4.061\n",
            "==============================================================================\n",
            "Omnibus:                      149.638   Durbin-Watson:                   1.027\n",
            "Prob(Omnibus):                  0.000   Jarque-Bera (JB):              602.095\n",
            "Skew:                           0.587   Prob(JB):                    1.81e-131\n",
            "Kurtosis:                       6.417   Cond. No.                         8.15\n",
            "==============================================================================\n",
            "\n",
            "Notes:\n",
            "[1] Standard Errors assume that the covariance matrix of the errors is correctly specified.\n",
            "Fuel Efficiency = 50.832148 + -15.581839(Engine Displacement) + 3.559143(TWD Indicator)\n"
          ]
        },
        {
          "output_type": "stream",
          "name": "stderr",
          "text": [
            "/usr/local/lib/python3.7/dist-packages/statsmodels/tsa/tsatools.py:142: FutureWarning: In a future version of pandas all arguments of concat except for the argument 'objs' will be keyword-only\n",
            "  x = pd.concat(x[::order], 1)\n"
          ]
        }
      ],
      "source": [
        "import statsmodels.api as sm\n",
        "\n",
        "y = data['FE']\n",
        "X = data.loc[:, ['LogEngDispl', 'TwoWheelDrive_Indicator']]\n",
        "X = sm.add_constant(X)  # Add intercept term to model\n",
        "model = sm.OLS(y, X)\n",
        "results = model.fit()\n",
        "print(results.summary())\n",
        "print(\"Fuel Efficiency = {:.6f} + {:.6f}(Engine Displacement) + {:.6f}(TWD Indicator)\".format(results.params[0], results.params[1], results.params[2]))\n",
        "# our r squared value has increased, showing that this model explaines the variance in FE better"
      ]
    },
    {
      "cell_type": "code",
      "execution_count": null,
      "id": "42204464",
      "metadata": {
        "scrolled": false,
        "colab": {
          "base_uri": "https://localhost:8080/",
          "height": 421
        },
        "id": "42204464",
        "outputId": "420122ba-dcf1-4cb9-b8f9-0de9d6de19b5"
      },
      "outputs": [
        {
          "output_type": "execute_result",
          "data": {
            "text/plain": [
              "[<matplotlib.lines.Line2D at 0x7f950c304250>]"
            ]
          },
          "metadata": {},
          "execution_count": 25
        },
        {
          "output_type": "display_data",
          "data": {
            "text/plain": [
              "<Figure size 432x432 with 1 Axes>"
            ],
            "image/png": "[encoded data removed]"
          },
          "metadata": {
            "needs_background": "light"
          }
        }
      ],
      "source": [
        "plt.figure(figsize=(6,6))\n",
        "scatter = plt.scatter(data['LogEngDispl'], data['FE'], s=8, alpha=0.5,\n",
        "                      c=data['TwoWheelDrive_Indicator'], cmap=ListedColormap(['r','b']))\n",
        "plt.xlabel('Log of Engine Displacement')\n",
        "plt.ylabel('Fuel Efficiency')\n",
        "plt.title('Scatter Plot')\n",
        "plt.legend(*scatter.legend_elements())\n",
        "\n",
        "# add linear regression lines to scatterplot \n",
        "xseq = np.linspace(-0.1, 2.5, num=100)\n",
        "plt.plot(xseq, results.params[1]*xseq+results.params[0], ls='dashed', c='r')\n",
        "plt.plot(xseq, results.params[1]*xseq+results.params[0]+results.params[2], ls='dashed', c='b')"
      ]
    },
    {
      "cell_type": "code",
      "execution_count": null,
      "id": "bc217fe3",
      "metadata": {
        "scrolled": false,
        "colab": {
          "base_uri": "https://localhost:8080/"
        },
        "id": "bc217fe3",
        "outputId": "9314536b-d1be-44fb-add2-83f1dd391038"
      },
      "outputs": [
        {
          "output_type": "stream",
          "name": "stdout",
          "text": [
            "                            OLS Regression Results                            \n",
            "==============================================================================\n",
            "Dep. Variable:                     FE   R-squared:                       0.739\n",
            "Model:                            OLS   Adj. R-squared:                  0.738\n",
            "Method:                 Least Squares   F-statistic:                     624.5\n",
            "Date:                Wed, 07 Sep 2022   Prob (F-statistic):          2.38e-318\n",
            "Time:                        00:11:54   Log-Likelihood:                -3056.4\n",
            "No. Observations:                1107   AIC:                             6125.\n",
            "Df Residuals:                    1101   BIC:                             6155.\n",
            "Df Model:                           5                                         \n",
            "Covariance Type:            nonrobust                                         \n",
            "==========================================================================================\n",
            "                             coef    std err          t      P>|t|      [0.025      0.975]\n",
            "------------------------------------------------------------------------------------------\n",
            "const                     41.4311      0.459     90.259      0.000      40.530      42.332\n",
            "LogEngDispl              -13.7662      0.384    -35.818      0.000     -14.520     -13.012\n",
            "AllWheelDrive              7.2430      0.309     23.460      0.000       6.637       7.849\n",
            "FourWheelDrive             6.9394      0.345     20.109      0.000       6.262       7.616\n",
            "ParttimeFourWheelDrive     5.5720      0.982      5.672      0.000       3.644       7.500\n",
            "TwoWheelDriveFront        12.2578      0.272     45.064      0.000      11.724      12.791\n",
            "TwoWheelDriveRear          9.4189      0.298     31.605      0.000       8.834      10.004\n",
            "==============================================================================\n",
            "Omnibus:                      161.377   Durbin-Watson:                   1.030\n",
            "Prob(Omnibus):                  0.000   Jarque-Bera (JB):              543.078\n",
            "Skew:                           0.696   Prob(JB):                    1.18e-118\n",
            "Kurtosis:                       6.137   Cond. No.                     5.26e+15\n",
            "==============================================================================\n",
            "\n",
            "Notes:\n",
            "[1] Standard Errors assume that the covariance matrix of the errors is correctly specified.\n",
            "[2] The smallest eigenvalue is 1.1e-28. This might indicate that there are\n",
            "strong multicollinearity problems or that the design matrix is singular.\n"
          ]
        },
        {
          "output_type": "stream",
          "name": "stderr",
          "text": [
            "/usr/local/lib/python3.7/dist-packages/statsmodels/tsa/tsatools.py:142: FutureWarning: In a future version of pandas all arguments of concat except for the argument 'objs' will be keyword-only\n",
            "  x = pd.concat(x[::order], 1)\n"
          ]
        }
      ],
      "source": [
        "y = data['FE']\n",
        "X = data.loc[:, ['LogEngDispl', 'AllWheelDrive', 'FourWheelDrive',\n",
        "       'ParttimeFourWheelDrive', 'TwoWheelDriveFront', 'TwoWheelDriveRear']]\n",
        "X = sm.add_constant(X)  # Add intercept term to model\n",
        "model = sm.OLS(y, X)\n",
        "results = model.fit()\n",
        "print(results.summary())\n",
        "\n",
        "# In note two, it's telling us there may be multicollinearity"
      ]
    },
    {
      "cell_type": "code",
      "execution_count": null,
      "id": "777e442b",
      "metadata": {
        "colab": {
          "base_uri": "https://localhost:8080/",
          "height": 424
        },
        "id": "777e442b",
        "outputId": "c9edb95d-b761-4b36-bce3-af3b19d721bf"
      },
      "outputs": [
        {
          "output_type": "execute_result",
          "data": {
            "text/plain": [
              "      const  LogEngDispl  AllWheelDrive  FourWheelDrive  \\\n",
              "0       1.0     1.547563              0               0   \n",
              "1       1.0     1.547563              0               0   \n",
              "2       1.0     1.435085              1               0   \n",
              "3       1.0     1.435085              1               0   \n",
              "4       1.0     1.648659              1               0   \n",
              "...     ...          ...            ...             ...   \n",
              "1102    1.0     1.163151              1               0   \n",
              "1103    1.0     1.098612              1               0   \n",
              "1104    1.0     1.163151              1               0   \n",
              "1105    1.0     1.163151              1               0   \n",
              "1106    1.0     1.481605              1               0   \n",
              "\n",
              "      ParttimeFourWheelDrive  TwoWheelDriveFront  TwoWheelDriveRear  \n",
              "0                          0                   0                  1  \n",
              "1                          0                   0                  1  \n",
              "2                          0                   0                  0  \n",
              "3                          0                   0                  0  \n",
              "4                          0                   0                  0  \n",
              "...                      ...                 ...                ...  \n",
              "1102                       0                   0                  0  \n",
              "1103                       0                   0                  0  \n",
              "1104                       0                   0                  0  \n",
              "1105                       0                   0                  0  \n",
              "1106                       0                   0                  0  \n",
              "\n",
              "[1107 rows x 7 columns]"
            ],
            "text/html": [
              "\n",
              "  <div id=\"df-addb388f-84f4-44f6-95b3-61109a289100\">\n",
              "    <div class=\"colab-df-container\">\n",
              "      <div>\n",
              "<style scoped>\n",
              "    .dataframe tbody tr th:only-of-type {\n",
              "        vertical-align: middle;\n",
              "    }\n",
              "\n",
              "    .dataframe tbody tr th {\n",
              "        vertical-align: top;\n",
              "    }\n",
              "\n",
              "    .dataframe thead th {\n",
              "        text-align: right;\n",
              "    }\n",
              "</style>\n",
              "<table border=\"1\" class=\"dataframe\">\n",
              "  <thead>\n",
              "    <tr style=\"text-align: right;\">\n",
              "      <th></th>\n",
              "      <th>const</th>\n",
              "      <th>LogEngDispl</th>\n",
              "      <th>AllWheelDrive</th>\n",
              "      <th>FourWheelDrive</th>\n",
              "      <th>ParttimeFourWheelDrive</th>\n",
              "      <th>TwoWheelDriveFront</th>\n",
              "      <th>TwoWheelDriveRear</th>\n",
              "    </tr>\n",
              "  </thead>\n",
              "  <tbody>\n",
              "    <tr>\n",
              "      <th>0</th>\n",
              "      <td>1.0</td>\n",
              "      <td>1.547563</td>\n",
              "      <td>0</td>\n",
              "      <td>0</td>\n",
              "      <td>0</td>\n",
              "      <td>0</td>\n",
              "      <td>1</td>\n",
              "    </tr>\n",
              "    <tr>\n",
              "      <th>1</th>\n",
              "      <td>1.0</td>\n",
              "      <td>1.547563</td>\n",
              "      <td>0</td>\n",
              "      <td>0</td>\n",
              "      <td>0</td>\n",
              "      <td>0</td>\n",
              "      <td>1</td>\n",
              "    </tr>\n",
              "    <tr>\n",
              "      <th>2</th>\n",
              "      <td>1.0</td>\n",
              "      <td>1.435085</td>\n",
              "      <td>1</td>\n",
              "      <td>0</td>\n",
              "      <td>0</td>\n",
              "      <td>0</td>\n",
              "      <td>0</td>\n",
              "    </tr>\n",
              "    <tr>\n",
              "      <th>3</th>\n",
              "      <td>1.0</td>\n",
              "      <td>1.435085</td>\n",
              "      <td>1</td>\n",
              "      <td>0</td>\n",
              "      <td>0</td>\n",
              "      <td>0</td>\n",
              "      <td>0</td>\n",
              "    </tr>\n",
              "    <tr>\n",
              "      <th>4</th>\n",
              "      <td>1.0</td>\n",
              "      <td>1.648659</td>\n",
              "      <td>1</td>\n",
              "      <td>0</td>\n",
              "      <td>0</td>\n",
              "      <td>0</td>\n",
              "      <td>0</td>\n",
              "    </tr>\n",
              "    <tr>\n",
              "      <th>...</th>\n",
              "      <td>...</td>\n",
              "      <td>...</td>\n",
              "      <td>...</td>\n",
              "      <td>...</td>\n",
              "      <td>...</td>\n",
              "      <td>...</td>\n",
              "      <td>...</td>\n",
              "    </tr>\n",
              "    <tr>\n",
              "      <th>1102</th>\n",
              "      <td>1.0</td>\n",
              "      <td>1.163151</td>\n",
              "      <td>1</td>\n",
              "      <td>0</td>\n",
              "      <td>0</td>\n",
              "      <td>0</td>\n",
              "      <td>0</td>\n",
              "    </tr>\n",
              "    <tr>\n",
              "      <th>1103</th>\n",
              "      <td>1.0</td>\n",
              "      <td>1.098612</td>\n",
              "      <td>1</td>\n",
              "      <td>0</td>\n",
              "      <td>0</td>\n",
              "      <td>0</td>\n",
              "      <td>0</td>\n",
              "    </tr>\n",
              "    <tr>\n",
              "      <th>1104</th>\n",
              "      <td>1.0</td>\n",
              "      <td>1.163151</td>\n",
              "      <td>1</td>\n",
              "      <td>0</td>\n",
              "      <td>0</td>\n",
              "      <td>0</td>\n",
              "      <td>0</td>\n",
              "    </tr>\n",
              "    <tr>\n",
              "      <th>1105</th>\n",
              "      <td>1.0</td>\n",
              "      <td>1.163151</td>\n",
              "      <td>1</td>\n",
              "      <td>0</td>\n",
              "      <td>0</td>\n",
              "      <td>0</td>\n",
              "      <td>0</td>\n",
              "    </tr>\n",
              "    <tr>\n",
              "      <th>1106</th>\n",
              "      <td>1.0</td>\n",
              "      <td>1.481605</td>\n",
              "      <td>1</td>\n",
              "      <td>0</td>\n",
              "      <td>0</td>\n",
              "      <td>0</td>\n",
              "      <td>0</td>\n",
              "    </tr>\n",
              "  </tbody>\n",
              "</table>\n",
              "<p>1107 rows × 7 columns</p>\n",
              "</div>\n",
              "      <button class=\"colab-df-convert\" onclick=\"convertToInteractive('df-addb388f-84f4-44f6-95b3-61109a289100')\"\n",
              "              title=\"Convert this dataframe to an interactive table.\"\n",
              "              style=\"display:none;\">\n",
              "        \n",
              "  <svg xmlns=\"http://www.w3.org/2000/svg\" height=\"24px\"viewBox=\"0 0 24 24\"\n",
              "       width=\"24px\">\n",
              "    <path d=\"M0 0h24v24H0V0z\" fill=\"none\"/>\n",
              "    <path d=\"M18.56 5.44l.94 2.06.94-2.06 2.06-.94-2.06-.94-.94-2.06-.94 2.06-2.06.94zm-11 1L8.5 8.5l.94-2.06 2.06-.94-2.06-.94L8.5 2.5l-.94 2.06-2.06.94zm10 10l.94 2.06.94-2.06 2.06-.94-2.06-.94-.94-2.06-.94 2.06-2.06.94z\"/><path d=\"M17.41 7.96l-1.37-1.37c-.4-.4-.92-.59-1.43-.59-.52 0-1.04.2-1.43.59L10.3 9.45l-7.72 7.72c-.78.78-.78 2.05 0 2.83L4 21.41c.39.39.9.59 1.41.59.51 0 1.02-.2 1.41-.59l7.78-7.78 2.81-2.81c.8-.78.8-2.07 0-2.86zM5.41 20L4 18.59l7.72-7.72 1.47 1.35L5.41 20z\"/>\n",
              "  </svg>\n",
              "      </button>\n",
              "      \n",
              "  <style>\n",
              "    .colab-df-container {\n",
              "      display:flex;\n",
              "      flex-wrap:wrap;\n",
              "      gap: 12px;\n",
              "    }\n",
              "\n",
              "    .colab-df-convert {\n",
              "      background-color: #E8F0FE;\n",
              "      border: none;\n",
              "      border-radius: 50%;\n",
              "      cursor: pointer;\n",
              "      display: none;\n",
              "      fill: #1967D2;\n",
              "      height: 32px;\n",
              "      padding: 0 0 0 0;\n",
              "      width: 32px;\n",
              "    }\n",
              "\n",
              "    .colab-df-convert:hover {\n",
              "      background-color: #E2EBFA;\n",
              "      box-shadow: 0px 1px 2px rgba(60, 64, 67, 0.3), 0px 1px 3px 1px rgba(60, 64, 67, 0.15);\n",
              "      fill: #174EA6;\n",
              "    }\n",
              "\n",
              "    [theme=dark] .colab-df-convert {\n",
              "      background-color: #3B4455;\n",
              "      fill: #D2E3FC;\n",
              "    }\n",
              "\n",
              "    [theme=dark] .colab-df-convert:hover {\n",
              "      background-color: #434B5C;\n",
              "      box-shadow: 0px 1px 3px 1px rgba(0, 0, 0, 0.15);\n",
              "      filter: drop-shadow(0px 1px 2px rgba(0, 0, 0, 0.3));\n",
              "      fill: #FFFFFF;\n",
              "    }\n",
              "  </style>\n",
              "\n",
              "      <script>\n",
              "        const buttonEl =\n",
              "          document.querySelector('#df-addb388f-84f4-44f6-95b3-61109a289100 button.colab-df-convert');\n",
              "        buttonEl.style.display =\n",
              "          google.colab.kernel.accessAllowed ? 'block' : 'none';\n",
              "\n",
              "        async function convertToInteractive(key) {\n",
              "          const element = document.querySelector('#df-addb388f-84f4-44f6-95b3-61109a289100');\n",
              "          const dataTable =\n",
              "            await google.colab.kernel.invokeFunction('convertToInteractive',\n",
              "                                                     [key], {});\n",
              "          if (!dataTable) return;\n",
              "\n",
              "          const docLinkHtml = 'Like what you see? Visit the ' +\n",
              "            '<a target=\"_blank\" href=https://colab.research.google.com/notebooks/data_table.ipynb>data table notebook</a>'\n",
              "            + ' to learn more about interactive tables.';\n",
              "          element.innerHTML = '';\n",
              "          dataTable['output_type'] = 'display_data';\n",
              "          await google.colab.output.renderOutput(dataTable, element);\n",
              "          const docLink = document.createElement('div');\n",
              "          docLink.innerHTML = docLinkHtml;\n",
              "          element.appendChild(docLink);\n",
              "        }\n",
              "      </script>\n",
              "    </div>\n",
              "  </div>\n",
              "  "
            ]
          },
          "metadata": {},
          "execution_count": 27
        }
      ],
      "source": [
        "X\n",
        "# Here we're inspecting the data. columns of 1ns for onstant, log of engine displacement, and drive variables. We did not drop the first of the matrix in\n",
        "# drive descriptions. Adding up the drive indicator columns will be equal to the constant term. If one column is a perfect sum of other columns in your design matrix, it\n",
        "# causes multicollinearity, and regression parameters are unreliable"
      ]
    },
    {
      "cell_type": "code",
      "execution_count": null,
      "id": "11f1bfd4",
      "metadata": {
        "scrolled": false,
        "colab": {
          "base_uri": "https://localhost:8080/"
        },
        "id": "11f1bfd4",
        "outputId": "158b933e-4f46-4fb3-99d3-f756138da91f"
      },
      "outputs": [
        {
          "output_type": "stream",
          "name": "stdout",
          "text": [
            "                            OLS Regression Results                            \n",
            "==============================================================================\n",
            "Dep. Variable:                     FE   R-squared:                       0.739\n",
            "Model:                            OLS   Adj. R-squared:                  0.738\n",
            "Method:                 Least Squares   F-statistic:                     624.5\n",
            "Date:                Wed, 07 Sep 2022   Prob (F-statistic):          2.38e-318\n",
            "Time:                        00:19:52   Log-Likelihood:                -3056.4\n",
            "No. Observations:                1107   AIC:                             6125.\n",
            "Df Residuals:                    1101   BIC:                             6155.\n",
            "Df Model:                           5                                         \n",
            "Covariance Type:            nonrobust                                         \n",
            "==========================================================================================\n",
            "                             coef    std err          t      P>|t|      [0.025      0.975]\n",
            "------------------------------------------------------------------------------------------\n",
            "const                     48.6741      0.538     90.391      0.000      47.618      49.731\n",
            "LogEngDispl              -13.7662      0.384    -35.818      0.000     -14.520     -13.012\n",
            "FourWheelDrive            -0.3036      0.409     -0.742      0.458      -1.107       0.500\n",
            "ParttimeFourWheelDrive    -1.6710      1.193     -1.401      0.162      -4.011       0.669\n",
            "TwoWheelDriveFront         5.0147      0.355     14.137      0.000       4.319       5.711\n",
            "TwoWheelDriveRear          2.1759      0.345      6.310      0.000       1.499       2.852\n",
            "==============================================================================\n",
            "Omnibus:                      161.377   Durbin-Watson:                   1.030\n",
            "Prob(Omnibus):                  0.000   Jarque-Bera (JB):              543.078\n",
            "Skew:                           0.696   Prob(JB):                    1.18e-118\n",
            "Kurtosis:                       6.137   Cond. No.                         17.2\n",
            "==============================================================================\n",
            "\n",
            "Notes:\n",
            "[1] Standard Errors assume that the covariance matrix of the errors is correctly specified.\n"
          ]
        },
        {
          "output_type": "stream",
          "name": "stderr",
          "text": [
            "/usr/local/lib/python3.7/dist-packages/statsmodels/tsa/tsatools.py:142: FutureWarning: In a future version of pandas all arguments of concat except for the argument 'objs' will be keyword-only\n",
            "  x = pd.concat(x[::order], 1)\n"
          ]
        }
      ],
      "source": [
        "y = data['FE']\n",
        "X = data.loc[:, ['LogEngDispl', 'FourWheelDrive', 'ParttimeFourWheelDrive', 'TwoWheelDriveFront', 'TwoWheelDriveRear']]\n",
        "X = sm.add_constant(X)  # Add intercept term to model\n",
        "model = sm.OLS(y, X)\n",
        "results = model.fit()\n",
        "print(results.summary())\n",
        "# Here, we're removing the first column to remove the colinneariy because some rows will add up to 0 and not equal the constant term"
      ]
    },
    {
      "cell_type": "code",
      "execution_count": null,
      "id": "6ff0685d",
      "metadata": {
        "colab": {
          "base_uri": "https://localhost:8080/",
          "height": 270
        },
        "id": "6ff0685d",
        "outputId": "d955ffc6-76b7-4c0d-f451-9ed096153ae1"
      },
      "outputs": [
        {
          "output_type": "execute_result",
          "data": {
            "text/plain": [
              "   EngDispl  NumCyl Transmission       FE AirAspirationMethod  NumGears  \\\n",
              "0       4.7       8          AM6  28.0198  NaturallyAspirated         6   \n",
              "1       4.7       8           M6  25.6094  NaturallyAspirated         6   \n",
              "2       4.2       8           M6  26.8000  NaturallyAspirated         6   \n",
              "3       4.2       8          AM6  25.0451  NaturallyAspirated         6   \n",
              "4       5.2      10          AM6  24.8000  NaturallyAspirated         6   \n",
              "\n",
              "   TransLockup  TransCreeperGear          DriveDesc  IntakeValvePerCyl  \\\n",
              "0            1                 0  TwoWheelDriveRear                  2   \n",
              "1            1                 0  TwoWheelDriveRear                  2   \n",
              "2            1                 0      AllWheelDrive                  2   \n",
              "3            1                 0      AllWheelDrive                  2   \n",
              "4            0                 0      AllWheelDrive                  2   \n",
              "\n",
              "   ExhaustValvesPerCyl CarlineClassDesc  VarValveTiming  VarValveLift  \n",
              "0                    2         2Seaters               1             0  \n",
              "1                    2         2Seaters               1             0  \n",
              "2                    2         2Seaters               1             0  \n",
              "3                    2         2Seaters               1             0  \n",
              "4                    2         2Seaters               1             0  "
            ],
            "text/html": [
              "\n",
              "  <div id=\"df-0c9618c9-2dd6-41ae-a5ae-3308d947c639\">\n",
              "    <div class=\"colab-df-container\">\n",
              "      <div>\n",
              "<style scoped>\n",
              "    .dataframe tbody tr th:only-of-type {\n",
              "        vertical-align: middle;\n",
              "    }\n",
              "\n",
              "    .dataframe tbody tr th {\n",
              "        vertical-align: top;\n",
              "    }\n",
              "\n",
              "    .dataframe thead th {\n",
              "        text-align: right;\n",
              "    }\n",
              "</style>\n",
              "<table border=\"1\" class=\"dataframe\">\n",
              "  <thead>\n",
              "    <tr style=\"text-align: right;\">\n",
              "      <th></th>\n",
              "      <th>EngDispl</th>\n",
              "      <th>NumCyl</th>\n",
              "      <th>Transmission</th>\n",
              "      <th>FE</th>\n",
              "      <th>AirAspirationMethod</th>\n",
              "      <th>NumGears</th>\n",
              "      <th>TransLockup</th>\n",
              "      <th>TransCreeperGear</th>\n",
              "      <th>DriveDesc</th>\n",
              "      <th>IntakeValvePerCyl</th>\n",
              "      <th>ExhaustValvesPerCyl</th>\n",
              "      <th>CarlineClassDesc</th>\n",
              "      <th>VarValveTiming</th>\n",
              "      <th>VarValveLift</th>\n",
              "    </tr>\n",
              "  </thead>\n",
              "  <tbody>\n",
              "    <tr>\n",
              "      <th>0</th>\n",
              "      <td>4.7</td>\n",
              "      <td>8</td>\n",
              "      <td>AM6</td>\n",
              "      <td>28.0198</td>\n",
              "      <td>NaturallyAspirated</td>\n",
              "      <td>6</td>\n",
              "      <td>1</td>\n",
              "      <td>0</td>\n",
              "      <td>TwoWheelDriveRear</td>\n",
              "      <td>2</td>\n",
              "      <td>2</td>\n",
              "      <td>2Seaters</td>\n",
              "      <td>1</td>\n",
              "      <td>0</td>\n",
              "    </tr>\n",
              "    <tr>\n",
              "      <th>1</th>\n",
              "      <td>4.7</td>\n",
              "      <td>8</td>\n",
              "      <td>M6</td>\n",
              "      <td>25.6094</td>\n",
              "      <td>NaturallyAspirated</td>\n",
              "      <td>6</td>\n",
              "      <td>1</td>\n",
              "      <td>0</td>\n",
              "      <td>TwoWheelDriveRear</td>\n",
              "      <td>2</td>\n",
              "      <td>2</td>\n",
              "      <td>2Seaters</td>\n",
              "      <td>1</td>\n",
              "      <td>0</td>\n",
              "    </tr>\n",
              "    <tr>\n",
              "      <th>2</th>\n",
              "      <td>4.2</td>\n",
              "      <td>8</td>\n",
              "      <td>M6</td>\n",
              "      <td>26.8000</td>\n",
              "      <td>NaturallyAspirated</td>\n",
              "      <td>6</td>\n",
              "      <td>1</td>\n",
              "      <td>0</td>\n",
              "      <td>AllWheelDrive</td>\n",
              "      <td>2</td>\n",
              "      <td>2</td>\n",
              "      <td>2Seaters</td>\n",
              "      <td>1</td>\n",
              "      <td>0</td>\n",
              "    </tr>\n",
              "    <tr>\n",
              "      <th>3</th>\n",
              "      <td>4.2</td>\n",
              "      <td>8</td>\n",
              "      <td>AM6</td>\n",
              "      <td>25.0451</td>\n",
              "      <td>NaturallyAspirated</td>\n",
              "      <td>6</td>\n",
              "      <td>1</td>\n",
              "      <td>0</td>\n",
              "      <td>AllWheelDrive</td>\n",
              "      <td>2</td>\n",
              "      <td>2</td>\n",
              "      <td>2Seaters</td>\n",
              "      <td>1</td>\n",
              "      <td>0</td>\n",
              "    </tr>\n",
              "    <tr>\n",
              "      <th>4</th>\n",
              "      <td>5.2</td>\n",
              "      <td>10</td>\n",
              "      <td>AM6</td>\n",
              "      <td>24.8000</td>\n",
              "      <td>NaturallyAspirated</td>\n",
              "      <td>6</td>\n",
              "      <td>0</td>\n",
              "      <td>0</td>\n",
              "      <td>AllWheelDrive</td>\n",
              "      <td>2</td>\n",
              "      <td>2</td>\n",
              "      <td>2Seaters</td>\n",
              "      <td>1</td>\n",
              "      <td>0</td>\n",
              "    </tr>\n",
              "  </tbody>\n",
              "</table>\n",
              "</div>\n",
              "      <button class=\"colab-df-convert\" onclick=\"convertToInteractive('df-0c9618c9-2dd6-41ae-a5ae-3308d947c639')\"\n",
              "              title=\"Convert this dataframe to an interactive table.\"\n",
              "              style=\"display:none;\">\n",
              "        \n",
              "  <svg xmlns=\"http://www.w3.org/2000/svg\" height=\"24px\"viewBox=\"0 0 24 24\"\n",
              "       width=\"24px\">\n",
              "    <path d=\"M0 0h24v24H0V0z\" fill=\"none\"/>\n",
              "    <path d=\"M18.56 5.44l.94 2.06.94-2.06 2.06-.94-2.06-.94-.94-2.06-.94 2.06-2.06.94zm-11 1L8.5 8.5l.94-2.06 2.06-.94-2.06-.94L8.5 2.5l-.94 2.06-2.06.94zm10 10l.94 2.06.94-2.06 2.06-.94-2.06-.94-.94-2.06-.94 2.06-2.06.94z\"/><path d=\"M17.41 7.96l-1.37-1.37c-.4-.4-.92-.59-1.43-.59-.52 0-1.04.2-1.43.59L10.3 9.45l-7.72 7.72c-.78.78-.78 2.05 0 2.83L4 21.41c.39.39.9.59 1.41.59.51 0 1.02-.2 1.41-.59l7.78-7.78 2.81-2.81c.8-.78.8-2.07 0-2.86zM5.41 20L4 18.59l7.72-7.72 1.47 1.35L5.41 20z\"/>\n",
              "  </svg>\n",
              "      </button>\n",
              "      \n",
              "  <style>\n",
              "    .colab-df-container {\n",
              "      display:flex;\n",
              "      flex-wrap:wrap;\n",
              "      gap: 12px;\n",
              "    }\n",
              "\n",
              "    .colab-df-convert {\n",
              "      background-color: #E8F0FE;\n",
              "      border: none;\n",
              "      border-radius: 50%;\n",
              "      cursor: pointer;\n",
              "      display: none;\n",
              "      fill: #1967D2;\n",
              "      height: 32px;\n",
              "      padding: 0 0 0 0;\n",
              "      width: 32px;\n",
              "    }\n",
              "\n",
              "    .colab-df-convert:hover {\n",
              "      background-color: #E2EBFA;\n",
              "      box-shadow: 0px 1px 2px rgba(60, 64, 67, 0.3), 0px 1px 3px 1px rgba(60, 64, 67, 0.15);\n",
              "      fill: #174EA6;\n",
              "    }\n",
              "\n",
              "    [theme=dark] .colab-df-convert {\n",
              "      background-color: #3B4455;\n",
              "      fill: #D2E3FC;\n",
              "    }\n",
              "\n",
              "    [theme=dark] .colab-df-convert:hover {\n",
              "      background-color: #434B5C;\n",
              "      box-shadow: 0px 1px 3px 1px rgba(0, 0, 0, 0.15);\n",
              "      filter: drop-shadow(0px 1px 2px rgba(0, 0, 0, 0.3));\n",
              "      fill: #FFFFFF;\n",
              "    }\n",
              "  </style>\n",
              "\n",
              "      <script>\n",
              "        const buttonEl =\n",
              "          document.querySelector('#df-0c9618c9-2dd6-41ae-a5ae-3308d947c639 button.colab-df-convert');\n",
              "        buttonEl.style.display =\n",
              "          google.colab.kernel.accessAllowed ? 'block' : 'none';\n",
              "\n",
              "        async function convertToInteractive(key) {\n",
              "          const element = document.querySelector('#df-0c9618c9-2dd6-41ae-a5ae-3308d947c639');\n",
              "          const dataTable =\n",
              "            await google.colab.kernel.invokeFunction('convertToInteractive',\n",
              "                                                     [key], {});\n",
              "          if (!dataTable) return;\n",
              "\n",
              "          const docLinkHtml = 'Like what you see? Visit the ' +\n",
              "            '<a target=\"_blank\" href=https://colab.research.google.com/notebooks/data_table.ipynb>data table notebook</a>'\n",
              "            + ' to learn more about interactive tables.';\n",
              "          element.innerHTML = '';\n",
              "          dataTable['output_type'] = 'display_data';\n",
              "          await google.colab.output.renderOutput(dataTable, element);\n",
              "          const docLink = document.createElement('div');\n",
              "          docLink.innerHTML = docLinkHtml;\n",
              "          element.appendChild(docLink);\n",
              "        }\n",
              "      </script>\n",
              "    </div>\n",
              "  </div>\n",
              "  "
            ]
          },
          "metadata": {},
          "execution_count": 63
        }
      ],
      "source": [
        "# Let's start over now and talk about how preprocessing steps can be done using scikit learn\n",
        "\n",
        "import pandas as pd\n",
        "\n",
        "data = pd.read_csv('/content/drive/MyDrive/Predictive Modeling/cars2010.csv')\n",
        "data.head()"
      ]
    },
    {
      "cell_type": "code",
      "execution_count": null,
      "id": "2a5b00c1",
      "metadata": {
        "colab": {
          "base_uri": "https://localhost:8080/"
        },
        "id": "2a5b00c1",
        "outputId": "8ee3d7ee-5cdd-407b-c242-e196a880335a"
      },
      "outputs": [
        {
          "output_type": "stream",
          "name": "stdout",
          "text": [
            "[[0. 0. 0. 0. 1.]\n",
            " [0. 0. 0. 0. 1.]\n",
            " [1. 0. 0. 0. 0.]\n",
            " ...\n",
            " [1. 0. 0. 0. 0.]\n",
            " [1. 0. 0. 0. 0.]\n",
            " [1. 0. 0. 0. 0.]]\n"
          ]
        }
      ],
      "source": [
        "from sklearn.preprocessing import OneHotEncoder\n",
        "\n",
        "#ohe_transformer = OneHotEncoder()\n",
        "ohe_transformer = OneHotEncoder(sparse=False) # sparse parameter = false initilizes the onehotencoder\n",
        "print(ohe_transformer.fit_transform(data.loc[:,['DriveDesc']])) # this is just the drive desciption column from dataframe and creates the 0s ans 1s\n",
        "# Here the FIT is determining the levels, if 1 or 0, and transform applies those rules and creates the actual columns"
      ]
    },
    {
      "cell_type": "code",
      "execution_count": null,
      "id": "a4ffe254",
      "metadata": {
        "colab": {
          "base_uri": "https://localhost:8080/"
        },
        "id": "a4ffe254",
        "outputId": "1b1c920e-599f-4365-ae30-a7637f489225"
      },
      "outputs": [
        {
          "output_type": "execute_result",
          "data": {
            "text/plain": [
              "array(['DriveDesc_AllWheelDrive', 'DriveDesc_FourWheelDrive',\n",
              "       'DriveDesc_ParttimeFourWheelDrive', 'DriveDesc_TwoWheelDriveFront',\n",
              "       'DriveDesc_TwoWheelDriveRear'], dtype=object)"
            ]
          },
          "metadata": {},
          "execution_count": 65
        }
      ],
      "source": [
        "ohe_transformer.get_feature_names_out() #Here we're just checking to see what the feature names are. With sklearn we're not as worried about interpreting model, just predicted values"
      ]
    },
    {
      "cell_type": "code",
      "execution_count": null,
      "id": "3cda0b15",
      "metadata": {
        "scrolled": true,
        "colab": {
          "base_uri": "https://localhost:8080/"
        },
        "id": "3cda0b15",
        "outputId": "fb4c2fc5-d56d-4b74-9c33-2a8eeab0bfed"
      },
      "outputs": [
        {
          "output_type": "stream",
          "name": "stdout",
          "text": [
            "      EngDispl\n",
            "0     1.547563\n",
            "1     1.547563\n",
            "2     1.435085\n",
            "3     1.435085\n",
            "4     1.648659\n",
            "...        ...\n",
            "1102  1.163151\n",
            "1103  1.098612\n",
            "1104  1.163151\n",
            "1105  1.163151\n",
            "1106  1.481605\n",
            "\n",
            "[1107 rows x 1 columns]\n"
          ]
        }
      ],
      "source": [
        "from sklearn.preprocessing import FunctionTransformer\n",
        "\n",
        "log_transformer = FunctionTransformer(np.log) # the np.log is us telling us to do a log transformation, we can put other functions here if needed\n",
        "print(log_transformer.fit_transform(data.loc[:,['EngDispl']])) # Here we're transforming the engine disp column with the log value"
      ]
    },
    {
      "cell_type": "code",
      "execution_count": null,
      "id": "d9522b5a",
      "metadata": {
        "scrolled": true,
        "colab": {
          "base_uri": "https://localhost:8080/"
        },
        "id": "d9522b5a",
        "outputId": "4d180114-1608-45ba-c424-042c04ca5aa8"
      },
      "outputs": [
        {
          "output_type": "execute_result",
          "data": {
            "text/plain": [
              "0       4.7\n",
              "1       4.7\n",
              "2       4.2\n",
              "3       4.2\n",
              "4       5.2\n",
              "       ... \n",
              "1102    3.2\n",
              "1103    3.0\n",
              "1104    3.2\n",
              "1105    3.2\n",
              "1106    4.4\n",
              "Name: EngDispl, Length: 1107, dtype: float64"
            ]
          },
          "metadata": {},
          "execution_count": 67
        }
      ],
      "source": [
        "#log_transformer.get_feature_names_out() ##-- this code doesn't come out\n",
        "data['EngDispl']\n"
      ]
    },
    {
      "cell_type": "code",
      "execution_count": null,
      "id": "770cfd11",
      "metadata": {
        "colab": {
          "base_uri": "https://localhost:8080/",
          "height": 243
        },
        "id": "770cfd11",
        "outputId": "528fc46d-327e-48ba-cc15-495e3303b44e"
      },
      "outputs": [
        {
          "output_type": "display_data",
          "data": {
            "text/plain": [
              "array([[1.54756251, 0.        , 0.        , 0.        , 0.        ,\n",
              "        1.        ],\n",
              "       [1.54756251, 0.        , 0.        , 0.        , 0.        ,\n",
              "        1.        ],\n",
              "       [1.43508453, 1.        , 0.        , 0.        , 0.        ,\n",
              "        0.        ],\n",
              "       ...,\n",
              "       [1.16315081, 1.        , 0.        , 0.        , 0.        ,\n",
              "        0.        ],\n",
              "       [1.16315081, 1.        , 0.        , 0.        , 0.        ,\n",
              "        0.        ],\n",
              "       [1.48160454, 1.        , 0.        , 0.        , 0.        ,\n",
              "        0.        ]])"
            ]
          },
          "metadata": {}
        }
      ],
      "source": [
        "from sklearn.compose import ColumnTransformer\n",
        "from sklearn.preprocessing import OneHotEncoder\n",
        "from sklearn.preprocessing import FunctionTransformer\n",
        "\n",
        "ct = ColumnTransformer(\n",
        "    [(\"log\", FunctionTransformer(np.log), ['EngDispl']), # Were just naming the transofrmation LOG\n",
        "     (\"onehot\", OneHotEncoder(sparse=False), ['DriveDesc']) # Using the onehotencoder on drive desc\n",
        "    ]\n",
        ")\n",
        "\n",
        "#X_train = data.loc[:, ['EngDispl', 'DriveDesc']]\n",
        "X_train = data.copy().drop(columns=['FE']) # This row was subbed in to include much more data, want to see what happens to data not in column transformation\n",
        "X_train_trans = ct.fit_transform(X_train) # We're transforming the data\n",
        "display(X_train_trans)\n",
        "# The result was still the same, all returned was the matrix and log of engine disp, only data in ct"
      ]
    },
    {
      "cell_type": "code",
      "execution_count": null,
      "id": "5fa566ef",
      "metadata": {
        "colab": {
          "base_uri": "https://localhost:8080/",
          "height": 243
        },
        "id": "5fa566ef",
        "outputId": "beca720e-d212-46d6-bcfe-98a28a8d977f"
      },
      "outputs": [
        {
          "output_type": "display_data",
          "data": {
            "text/plain": [
              "array([[1.54756251, 0.        , 0.        , 0.        , 0.        ,\n",
              "        1.        ],\n",
              "       [1.54756251, 0.        , 0.        , 0.        , 0.        ,\n",
              "        1.        ],\n",
              "       [1.43508453, 1.        , 0.        , 0.        , 0.        ,\n",
              "        0.        ],\n",
              "       ...,\n",
              "       [1.16315081, 1.        , 0.        , 0.        , 0.        ,\n",
              "        0.        ],\n",
              "       [1.16315081, 1.        , 0.        , 0.        , 0.        ,\n",
              "        0.        ],\n",
              "       [1.48160454, 1.        , 0.        , 0.        , 0.        ,\n",
              "        0.        ]])"
            ]
          },
          "metadata": {}
        }
      ],
      "source": [
        "from sklearn.compose import make_column_transformer # The only difference here compared to the one above is syntax and don't need names, not very different\n",
        "\n",
        "ct = make_column_transformer(\n",
        "    (FunctionTransformer(np.log), ['EngDispl']), # difference with above is this doesn't have 'log\n",
        "    (OneHotEncoder(sparse=False), ['DriveDesc']) # this doesn't have 'onehot'\n",
        ")\n",
        "\n",
        "X_train = data.loc[:, ['EngDispl', 'DriveDesc']]\n",
        "X_train_trans = ct.fit_transform(X_train)\n",
        "display(X_train_trans)"
      ]
    },
    {
      "cell_type": "code",
      "source": [
        "ct = make_column_transformer(\n",
        "    (FunctionTransformer(np.log), ['EngDispl']), # difference with above is this doesn't have 'log\n",
        "    (OneHotEncoder(sparse=False), ['DriveDesc']) # this doesn't have 'onehot'\n",
        ")\n",
        "\n",
        "X_train = data.loc[:, ['EngDispl', 'DriveDesc']]\n",
        "X_train_trans = ct.fit_transform(X_train)\n",
        "display(X_train_trans)"
      ],
      "metadata": {
        "colab": {
          "base_uri": "https://localhost:8080/",
          "height": 243
        },
        "id": "QU7ld2hHfbdQ",
        "outputId": "a4f3c2a5-68a1-4319-831c-172a4132726b"
      },
      "id": "QU7ld2hHfbdQ",
      "execution_count": null,
      "outputs": [
        {
          "output_type": "display_data",
          "data": {
            "text/plain": [
              "array([[1.54756251, 0.        , 0.        , 0.        , 0.        ,\n",
              "        1.        ],\n",
              "       [1.54756251, 0.        , 0.        , 0.        , 0.        ,\n",
              "        1.        ],\n",
              "       [1.43508453, 1.        , 0.        , 0.        , 0.        ,\n",
              "        0.        ],\n",
              "       ...,\n",
              "       [1.16315081, 1.        , 0.        , 0.        , 0.        ,\n",
              "        0.        ],\n",
              "       [1.16315081, 1.        , 0.        , 0.        , 0.        ,\n",
              "        0.        ],\n",
              "       [1.48160454, 1.        , 0.        , 0.        , 0.        ,\n",
              "        0.        ]])"
            ]
          },
          "metadata": {}
        }
      ]
    },
    {
      "cell_type": "code",
      "execution_count": null,
      "id": "22bac028",
      "metadata": {
        "colab": {
          "base_uri": "https://localhost:8080/"
        },
        "id": "22bac028",
        "outputId": "ff636b3a-c1c7-43de-927f-2af14d3f956d"
      },
      "outputs": [
        {
          "output_type": "execute_result",
          "data": {
            "text/plain": [
              "0.7392918433566256"
            ]
          },
          "metadata": {},
          "execution_count": 77
        }
      ],
      "source": [
        "from sklearn import linear_model\n",
        "from sklearn.compose import make_column_transformer\n",
        "\n",
        "y_train = data['FE']\n",
        "X_train = data.loc[:, ['EngDispl', 'DriveDesc']]\n",
        "\n",
        "ct = make_column_transformer(\n",
        "    (FunctionTransformer(np.log), ['EngDispl']),\n",
        "    (OneHotEncoder(sparse=False), ['DriveDesc'])\n",
        ")\n",
        "\n",
        "X_train_trans = ct.fit_transform(X_train)\n",
        "\n",
        "# Create linear regression object\n",
        "regr = linear_model.LinearRegression()\n",
        "\n",
        "# Train the model using the training sets\n",
        "regr.fit(X_train_trans, y_train)\n",
        "\n",
        "regr.score(X_train_trans, y_train) # the score is equal to the statsmodel r squared value, it should be"
      ]
    },
    {
      "cell_type": "code",
      "execution_count": null,
      "id": "5a405ac4",
      "metadata": {
        "scrolled": true,
        "id": "5a405ac4"
      },
      "outputs": [],
      "source": [
        "#regr.intercept_\n",
        "#regr.coef_\n",
        "#regr.feature_names_in_"
      ]
    },
    {
      "cell_type": "code",
      "execution_count": null,
      "id": "09821160",
      "metadata": {
        "scrolled": false,
        "colab": {
          "base_uri": "https://localhost:8080/"
        },
        "id": "09821160",
        "outputId": "6b03ab9b-03be-4608-e104-57c5e9e5f42e"
      },
      "outputs": [
        {
          "output_type": "stream",
          "name": "stdout",
          "text": [
            "                            OLS Regression Results                            \n",
            "==============================================================================\n",
            "Dep. Variable:                     FE   R-squared:                       0.739\n",
            "Model:                            OLS   Adj. R-squared:                  0.738\n",
            "Method:                 Least Squares   F-statistic:                     624.5\n",
            "Date:                Wed, 07 Sep 2022   Prob (F-statistic):          2.38e-318\n",
            "Time:                        01:24:53   Log-Likelihood:                -3056.4\n",
            "No. Observations:                1107   AIC:                             6125.\n",
            "Df Residuals:                    1101   BIC:                             6155.\n",
            "Df Model:                           5                                         \n",
            "Covariance Type:            nonrobust                                         \n",
            "====================================================================================================\n",
            "                                       coef    std err          t      P>|t|      [0.025      0.975]\n",
            "----------------------------------------------------------------------------------------------------\n",
            "const                               48.6741      0.538     90.391      0.000      47.618      49.731\n",
            "DriveDesc_FourWheelDrive            -0.3036      0.409     -0.742      0.458      -1.107       0.500\n",
            "DriveDesc_ParttimeFourWheelDrive    -1.6710      1.193     -1.401      0.162      -4.011       0.669\n",
            "DriveDesc_TwoWheelDriveFront         5.0147      0.355     14.137      0.000       4.319       5.711\n",
            "DriveDesc_TwoWheelDriveRear          2.1759      0.345      6.310      0.000       1.499       2.852\n",
            "LogEngDisplSqr                     -13.7662      0.384    -35.818      0.000     -14.520     -13.012\n",
            "==============================================================================\n",
            "Omnibus:                      161.377   Durbin-Watson:                   1.030\n",
            "Prob(Omnibus):                  0.000   Jarque-Bera (JB):              543.078\n",
            "Skew:                           0.696   Prob(JB):                    1.18e-118\n",
            "Kurtosis:                       6.137   Cond. No.                         17.2\n",
            "==============================================================================\n",
            "\n",
            "Notes:\n",
            "[1] Standard Errors assume that the covariance matrix of the errors is correctly specified.\n"
          ]
        },
        {
          "output_type": "stream",
          "name": "stderr",
          "text": [
            "/usr/local/lib/python3.7/dist-packages/statsmodels/tsa/tsatools.py:142: FutureWarning: In a future version of pandas all arguments of concat except for the argument 'objs' will be keyword-only\n",
            "  x = pd.concat(x[::order], 1)\n"
          ]
        }
      ],
      "source": [
        "# Let's compare this result to output from statsmodels\n",
        "import statsmodels.api as sm\n",
        "\n",
        "y = data['FE']\n",
        "X = pd.get_dummies(data.loc[:, ['DriveDesc']], drop_first=True)\n",
        "X['LogEngDisplSqr'] = np.log(data['EngDispl'])\n",
        "X = sm.add_constant(X)  # Add intercept term to model\n",
        "model = sm.OLS(y, X)\n",
        "results = model.fit()\n",
        "print(results.summary())"
      ]
    },
    {
      "cell_type": "code",
      "execution_count": null,
      "id": "fad1a6c1",
      "metadata": {
        "colab": {
          "base_uri": "https://localhost:8080/"
        },
        "id": "fad1a6c1",
        "outputId": "282cb7b1-390b-4c9c-ae47-e2b47d498bef"
      },
      "outputs": [
        {
          "output_type": "execute_result",
          "data": {
            "text/plain": [
              "0.7677466071213374"
            ]
          },
          "metadata": {},
          "execution_count": 86
        }
      ],
      "source": [
        "# Let's test the model on new, never-before-seen data\n",
        "\n",
        "import pandas as pd\n",
        "\n",
        "new_data = pd.read_csv('/content/drive/MyDrive/Predictive Modeling/cars2011.csv')\n",
        "y_test = new_data['FE']\n",
        "X_test = new_data.loc[:, ['EngDispl', 'DriveDesc']]\n",
        "\n",
        "X_test_trans = ct.transform(X_test)\n",
        "regr.score(X_test_trans, y_test)\n",
        "# The score is .76, so the r squared value is similar between two. We don't need to do CT again, we're using it on x_test"
      ]
    },
    {
      "cell_type": "code",
      "execution_count": null,
      "id": "18c4a320",
      "metadata": {
        "scrolled": true,
        "colab": {
          "base_uri": "https://localhost:8080/"
        },
        "id": "18c4a320",
        "outputId": "9b957028-36a8-4987-e952-b982a4bda27a"
      },
      "outputs": [
        {
          "output_type": "execute_result",
          "data": {
            "text/plain": [
              "array([[1.54756251, 0.        , 0.        , 0.        , 1.        ],\n",
              "       [1.54756251, 0.        , 0.        , 0.        , 1.        ],\n",
              "       [1.43508453, 0.        , 0.        , 0.        , 0.        ],\n",
              "       ...,\n",
              "       [1.16315081, 0.        , 0.        , 0.        , 0.        ],\n",
              "       [1.16315081, 0.        , 0.        , 0.        , 0.        ],\n",
              "       [1.48160454, 0.        , 0.        , 0.        , 0.        ]])"
            ]
          },
          "metadata": {},
          "execution_count": 87
        }
      ],
      "source": [
        "X_train_trans[:, [0, 2, 3, 4, 5]] # Here we're dropping the first column because we know for classical stats methods there was multicollienarity"
      ]
    },
    {
      "cell_type": "code",
      "execution_count": null,
      "id": "59d2468d",
      "metadata": {
        "colab": {
          "base_uri": "https://localhost:8080/"
        },
        "id": "59d2468d",
        "outputId": "c05375f2-a536-41da-ec30-cb1132ad5214"
      },
      "outputs": [
        {
          "output_type": "execute_result",
          "data": {
            "text/plain": [
              "0.739301841087258"
            ]
          },
          "metadata": {},
          "execution_count": 88
        }
      ],
      "source": [
        "# Retrain the model omitting the first one-hot-encoded column\n",
        "regr.fit(X_train_trans[:, [0, 2, 3, 4, 5]], y_train)\n",
        "\n",
        "regr.score(X_train_trans[:, [0, 2, 3, 4, 5]], y_train) # the score is still the same, so the effect of collinearity just mean that coefficients were off"
      ]
    },
    {
      "cell_type": "code",
      "execution_count": null,
      "id": "65aa6c5e",
      "metadata": {
        "colab": {
          "base_uri": "https://localhost:8080/"
        },
        "id": "65aa6c5e",
        "outputId": "737ec914-08c1-41b0-eb98-b540ac042a9c"
      },
      "outputs": [
        {
          "output_type": "stream",
          "name": "stdout",
          "text": [
            "48.674132417641275 [-13.76616025  -0.30364312  -1.67101599   5.01472931   2.17588912]\n"
          ]
        }
      ],
      "source": [
        "print(regr.intercept_, regr.coef_)"
      ]
    },
    {
      "cell_type": "code",
      "execution_count": null,
      "id": "7a4c6f0e",
      "metadata": {
        "colab": {
          "base_uri": "https://localhost:8080/"
        },
        "id": "7a4c6f0e",
        "outputId": "e6b8e506-f7c5-4e8b-c6ff-cb33c6ef6a38"
      },
      "outputs": [
        {
          "output_type": "execute_result",
          "data": {
            "text/plain": [
              "0.7680011172005186"
            ]
          },
          "metadata": {},
          "execution_count": 90
        }
      ],
      "source": [
        "# Restest the model on new data\n",
        "\n",
        "regr.score(X_test_trans[:, [0, 2, 3, 4, 5]], y_test) # It does make a slight difference with the new data"
      ]
    },
    {
      "cell_type": "code",
      "execution_count": null,
      "id": "f3537bb1",
      "metadata": {
        "colab": {
          "base_uri": "https://localhost:8080/",
          "height": 270
        },
        "id": "f3537bb1",
        "outputId": "45e99072-90d7-416a-cadf-9f7f3770a578"
      },
      "outputs": [
        {
          "output_type": "execute_result",
          "data": {
            "text/plain": [
              "   EngDispl  NumCyl Transmission       FE AirAspirationMethod  NumGears  \\\n",
              "0       4.7       8          AM6  28.0198  NaturallyAspirated         6   \n",
              "1       4.7       8           M6  25.6094  NaturallyAspirated         6   \n",
              "2       4.2       8           M6  26.8000  NaturallyAspirated         6   \n",
              "3       4.2       8          AM6  25.0451  NaturallyAspirated         6   \n",
              "4       5.2      10          AM6  24.8000  NaturallyAspirated         6   \n",
              "\n",
              "   TransLockup  TransCreeperGear          DriveDesc  IntakeValvePerCyl  \\\n",
              "0            1                 0  TwoWheelDriveRear                  2   \n",
              "1            1                 0  TwoWheelDriveRear                  2   \n",
              "2            1                 0      AllWheelDrive                  2   \n",
              "3            1                 0      AllWheelDrive                  2   \n",
              "4            0                 0      AllWheelDrive                  2   \n",
              "\n",
              "   ExhaustValvesPerCyl CarlineClassDesc  VarValveTiming  VarValveLift  \\\n",
              "0                    2         2Seaters               1             0   \n",
              "1                    2         2Seaters               1             0   \n",
              "2                    2         2Seaters               1             0   \n",
              "3                    2         2Seaters               1             0   \n",
              "4                    2         2Seaters               1             0   \n",
              "\n",
              "   TwoWheelDrive_Indicator  \n",
              "0                        1  \n",
              "1                        1  \n",
              "2                        0  \n",
              "3                        0  \n",
              "4                        0  "
            ],
            "text/html": [
              "\n",
              "  <div id=\"df-d3376183-5f03-4aa0-b988-727d9bd57528\">\n",
              "    <div class=\"colab-df-container\">\n",
              "      <div>\n",
              "<style scoped>\n",
              "    .dataframe tbody tr th:only-of-type {\n",
              "        vertical-align: middle;\n",
              "    }\n",
              "\n",
              "    .dataframe tbody tr th {\n",
              "        vertical-align: top;\n",
              "    }\n",
              "\n",
              "    .dataframe thead th {\n",
              "        text-align: right;\n",
              "    }\n",
              "</style>\n",
              "<table border=\"1\" class=\"dataframe\">\n",
              "  <thead>\n",
              "    <tr style=\"text-align: right;\">\n",
              "      <th></th>\n",
              "      <th>EngDispl</th>\n",
              "      <th>NumCyl</th>\n",
              "      <th>Transmission</th>\n",
              "      <th>FE</th>\n",
              "      <th>AirAspirationMethod</th>\n",
              "      <th>NumGears</th>\n",
              "      <th>TransLockup</th>\n",
              "      <th>TransCreeperGear</th>\n",
              "      <th>DriveDesc</th>\n",
              "      <th>IntakeValvePerCyl</th>\n",
              "      <th>ExhaustValvesPerCyl</th>\n",
              "      <th>CarlineClassDesc</th>\n",
              "      <th>VarValveTiming</th>\n",
              "      <th>VarValveLift</th>\n",
              "      <th>TwoWheelDrive_Indicator</th>\n",
              "    </tr>\n",
              "  </thead>\n",
              "  <tbody>\n",
              "    <tr>\n",
              "      <th>0</th>\n",
              "      <td>4.7</td>\n",
              "      <td>8</td>\n",
              "      <td>AM6</td>\n",
              "      <td>28.0198</td>\n",
              "      <td>NaturallyAspirated</td>\n",
              "      <td>6</td>\n",
              "      <td>1</td>\n",
              "      <td>0</td>\n",
              "      <td>TwoWheelDriveRear</td>\n",
              "      <td>2</td>\n",
              "      <td>2</td>\n",
              "      <td>2Seaters</td>\n",
              "      <td>1</td>\n",
              "      <td>0</td>\n",
              "      <td>1</td>\n",
              "    </tr>\n",
              "    <tr>\n",
              "      <th>1</th>\n",
              "      <td>4.7</td>\n",
              "      <td>8</td>\n",
              "      <td>M6</td>\n",
              "      <td>25.6094</td>\n",
              "      <td>NaturallyAspirated</td>\n",
              "      <td>6</td>\n",
              "      <td>1</td>\n",
              "      <td>0</td>\n",
              "      <td>TwoWheelDriveRear</td>\n",
              "      <td>2</td>\n",
              "      <td>2</td>\n",
              "      <td>2Seaters</td>\n",
              "      <td>1</td>\n",
              "      <td>0</td>\n",
              "      <td>1</td>\n",
              "    </tr>\n",
              "    <tr>\n",
              "      <th>2</th>\n",
              "      <td>4.2</td>\n",
              "      <td>8</td>\n",
              "      <td>M6</td>\n",
              "      <td>26.8000</td>\n",
              "      <td>NaturallyAspirated</td>\n",
              "      <td>6</td>\n",
              "      <td>1</td>\n",
              "      <td>0</td>\n",
              "      <td>AllWheelDrive</td>\n",
              "      <td>2</td>\n",
              "      <td>2</td>\n",
              "      <td>2Seaters</td>\n",
              "      <td>1</td>\n",
              "      <td>0</td>\n",
              "      <td>0</td>\n",
              "    </tr>\n",
              "    <tr>\n",
              "      <th>3</th>\n",
              "      <td>4.2</td>\n",
              "      <td>8</td>\n",
              "      <td>AM6</td>\n",
              "      <td>25.0451</td>\n",
              "      <td>NaturallyAspirated</td>\n",
              "      <td>6</td>\n",
              "      <td>1</td>\n",
              "      <td>0</td>\n",
              "      <td>AllWheelDrive</td>\n",
              "      <td>2</td>\n",
              "      <td>2</td>\n",
              "      <td>2Seaters</td>\n",
              "      <td>1</td>\n",
              "      <td>0</td>\n",
              "      <td>0</td>\n",
              "    </tr>\n",
              "    <tr>\n",
              "      <th>4</th>\n",
              "      <td>5.2</td>\n",
              "      <td>10</td>\n",
              "      <td>AM6</td>\n",
              "      <td>24.8000</td>\n",
              "      <td>NaturallyAspirated</td>\n",
              "      <td>6</td>\n",
              "      <td>0</td>\n",
              "      <td>0</td>\n",
              "      <td>AllWheelDrive</td>\n",
              "      <td>2</td>\n",
              "      <td>2</td>\n",
              "      <td>2Seaters</td>\n",
              "      <td>1</td>\n",
              "      <td>0</td>\n",
              "      <td>0</td>\n",
              "    </tr>\n",
              "  </tbody>\n",
              "</table>\n",
              "</div>\n",
              "      <button class=\"colab-df-convert\" onclick=\"convertToInteractive('df-d3376183-5f03-4aa0-b988-727d9bd57528')\"\n",
              "              title=\"Convert this dataframe to an interactive table.\"\n",
              "              style=\"display:none;\">\n",
              "        \n",
              "  <svg xmlns=\"http://www.w3.org/2000/svg\" height=\"24px\"viewBox=\"0 0 24 24\"\n",
              "       width=\"24px\">\n",
              "    <path d=\"M0 0h24v24H0V0z\" fill=\"none\"/>\n",
              "    <path d=\"M18.56 5.44l.94 2.06.94-2.06 2.06-.94-2.06-.94-.94-2.06-.94 2.06-2.06.94zm-11 1L8.5 8.5l.94-2.06 2.06-.94-2.06-.94L8.5 2.5l-.94 2.06-2.06.94zm10 10l.94 2.06.94-2.06 2.06-.94-2.06-.94-.94-2.06-.94 2.06-2.06.94z\"/><path d=\"M17.41 7.96l-1.37-1.37c-.4-.4-.92-.59-1.43-.59-.52 0-1.04.2-1.43.59L10.3 9.45l-7.72 7.72c-.78.78-.78 2.05 0 2.83L4 21.41c.39.39.9.59 1.41.59.51 0 1.02-.2 1.41-.59l7.78-7.78 2.81-2.81c.8-.78.8-2.07 0-2.86zM5.41 20L4 18.59l7.72-7.72 1.47 1.35L5.41 20z\"/>\n",
              "  </svg>\n",
              "      </button>\n",
              "      \n",
              "  <style>\n",
              "    .colab-df-container {\n",
              "      display:flex;\n",
              "      flex-wrap:wrap;\n",
              "      gap: 12px;\n",
              "    }\n",
              "\n",
              "    .colab-df-convert {\n",
              "      background-color: #E8F0FE;\n",
              "      border: none;\n",
              "      border-radius: 50%;\n",
              "      cursor: pointer;\n",
              "      display: none;\n",
              "      fill: #1967D2;\n",
              "      height: 32px;\n",
              "      padding: 0 0 0 0;\n",
              "      width: 32px;\n",
              "    }\n",
              "\n",
              "    .colab-df-convert:hover {\n",
              "      background-color: #E2EBFA;\n",
              "      box-shadow: 0px 1px 2px rgba(60, 64, 67, 0.3), 0px 1px 3px 1px rgba(60, 64, 67, 0.15);\n",
              "      fill: #174EA6;\n",
              "    }\n",
              "\n",
              "    [theme=dark] .colab-df-convert {\n",
              "      background-color: #3B4455;\n",
              "      fill: #D2E3FC;\n",
              "    }\n",
              "\n",
              "    [theme=dark] .colab-df-convert:hover {\n",
              "      background-color: #434B5C;\n",
              "      box-shadow: 0px 1px 3px 1px rgba(0, 0, 0, 0.15);\n",
              "      filter: drop-shadow(0px 1px 2px rgba(0, 0, 0, 0.3));\n",
              "      fill: #FFFFFF;\n",
              "    }\n",
              "  </style>\n",
              "\n",
              "      <script>\n",
              "        const buttonEl =\n",
              "          document.querySelector('#df-d3376183-5f03-4aa0-b988-727d9bd57528 button.colab-df-convert');\n",
              "        buttonEl.style.display =\n",
              "          google.colab.kernel.accessAllowed ? 'block' : 'none';\n",
              "\n",
              "        async function convertToInteractive(key) {\n",
              "          const element = document.querySelector('#df-d3376183-5f03-4aa0-b988-727d9bd57528');\n",
              "          const dataTable =\n",
              "            await google.colab.kernel.invokeFunction('convertToInteractive',\n",
              "                                                     [key], {});\n",
              "          if (!dataTable) return;\n",
              "\n",
              "          const docLinkHtml = 'Like what you see? Visit the ' +\n",
              "            '<a target=\"_blank\" href=https://colab.research.google.com/notebooks/data_table.ipynb>data table notebook</a>'\n",
              "            + ' to learn more about interactive tables.';\n",
              "          element.innerHTML = '';\n",
              "          dataTable['output_type'] = 'display_data';\n",
              "          await google.colab.output.renderOutput(dataTable, element);\n",
              "          const docLink = document.createElement('div');\n",
              "          docLink.innerHTML = docLinkHtml;\n",
              "          element.appendChild(docLink);\n",
              "        }\n",
              "      </script>\n",
              "    </div>\n",
              "  </div>\n",
              "  "
            ]
          },
          "metadata": {},
          "execution_count": 91
        }
      ],
      "source": [
        "# Let's start over and use Logistic Regression to classify vehicles as Two-Wheel drive using Fuel Efficiency\n",
        "# as a predictor variable\n",
        "\n",
        "import pandas as pd\n",
        "\n",
        "data = pd.read_csv('/content/drive/MyDrive/Predictive Modeling/cars2010.csv')\n",
        "\n",
        "data['TwoWheelDrive_Indicator'] = \\\n",
        "[1 if (i == 'TwoWheelDriveFront') | (i == 'TwoWheelDriveRear') else 0 for i in data['DriveDesc']]\n",
        "\n",
        "data.head()"
      ]
    },
    {
      "cell_type": "code",
      "execution_count": null,
      "id": "8929acea",
      "metadata": {
        "scrolled": false,
        "colab": {
          "base_uri": "https://localhost:8080/",
          "height": 421
        },
        "id": "8929acea",
        "outputId": "0187b167-5c83-40ec-9471-6c8ba5dd8976"
      },
      "outputs": [
        {
          "output_type": "execute_result",
          "data": {
            "text/plain": [
              "Text(0.5, 1.0, 'Scatter Plot')"
            ]
          },
          "metadata": {},
          "execution_count": 92
        },
        {
          "output_type": "display_data",
          "data": {
            "text/plain": [
              "<Figure size 432x432 with 1 Axes>"
            ],
            "image/png": "[encoded data removed]"
          },
          "metadata": {
            "needs_background": "light"
          }
        }
      ],
      "source": [
        "# Make a scatter plot\n",
        "\n",
        "plt.figure(figsize=(6,6))\n",
        "plt.scatter(data['FE'], data['TwoWheelDrive_Indicator'], s=8, alpha=0.5)\n",
        "plt.xlabel('Fuel Efficiency')\n",
        "plt.ylabel('Two-Wheel Drive Indicator')\n",
        "plt.title('Scatter Plot')\n",
        "# This scatterplot is showing us 2 wheel drive or not, a binary classification. 1 is 2wd, 0 is not."
      ]
    },
    {
      "cell_type": "code",
      "execution_count": null,
      "id": "d01f399e",
      "metadata": {
        "colab": {
          "base_uri": "https://localhost:8080/"
        },
        "id": "d01f399e",
        "outputId": "4cf02dfa-ce4b-4879-835b-a619984260bf"
      },
      "outputs": [
        {
          "output_type": "execute_result",
          "data": {
            "text/plain": [
              "0.6702800361336947"
            ]
          },
          "metadata": {},
          "execution_count": 93
        }
      ],
      "source": [
        "from sklearn.linear_model import LogisticRegression\n",
        "\n",
        "y_train = data['TwoWheelDrive_Indicator']\n",
        "X_train = data.loc[:, ['FE']]\n",
        "\n",
        "logr = LogisticRegression()\n",
        "logr.fit(X_train, y_train)\n",
        "y_pred = logr.predict(X_train) # this is giving us the predicted values, y train has actual values\n",
        "logr.score(X_train, y_train) # score is accuracy - comes to .67"
      ]
    },
    {
      "cell_type": "code",
      "execution_count": null,
      "id": "370784a1",
      "metadata": {
        "scrolled": false,
        "colab": {
          "base_uri": "https://localhost:8080/"
        },
        "id": "370784a1",
        "outputId": "c431a3f0-5739-4524-9a12-53d3e9f01e89"
      },
      "outputs": [
        {
          "output_type": "execute_result",
          "data": {
            "text/plain": [
              "732"
            ]
          },
          "metadata": {},
          "execution_count": 94
        }
      ],
      "source": [
        "data['TwoWheelDrive_Indicator'].sum()"
      ]
    },
    {
      "cell_type": "code",
      "execution_count": null,
      "id": "a3714bc9",
      "metadata": {
        "colab": {
          "base_uri": "https://localhost:8080/"
        },
        "id": "a3714bc9",
        "outputId": "ce768d4f-51be-4f24-cac0-df6be3054045"
      },
      "outputs": [
        {
          "output_type": "execute_result",
          "data": {
            "text/plain": [
              "(1107, 15)"
            ]
          },
          "metadata": {},
          "execution_count": 95
        }
      ],
      "source": [
        "data.shape"
      ]
    },
    {
      "cell_type": "code",
      "execution_count": null,
      "id": "dd2cb06c",
      "metadata": {
        "colab": {
          "base_uri": "https://localhost:8080/"
        },
        "id": "dd2cb06c",
        "outputId": "0ebf05ed-860a-4eae-f153-e481ff95f4fc"
      },
      "outputs": [
        {
          "output_type": "execute_result",
          "data": {
            "text/plain": [
              "0.6612466124661247"
            ]
          },
          "metadata": {},
          "execution_count": 96
        }
      ],
      "source": [
        "data['TwoWheelDrive_Indicator'].sum()/data.shape[0] # This is just the ratio, if we always predicted 2WD, we would be almost as accurate as the logreg model\n",
        "# Our model isn't very good against a baseline"
      ]
    },
    {
      "cell_type": "code",
      "execution_count": null,
      "id": "45f71549",
      "metadata": {
        "colab": {
          "base_uri": "https://localhost:8080/",
          "height": 421
        },
        "id": "45f71549",
        "outputId": "ced5b9cb-4a0a-4c57-8096-f822dd98e887"
      },
      "outputs": [
        {
          "output_type": "execute_result",
          "data": {
            "text/plain": [
              "[<matplotlib.lines.Line2D at 0x7f950c2ee090>]"
            ]
          },
          "metadata": {},
          "execution_count": 97
        },
        {
          "output_type": "display_data",
          "data": {
            "text/plain": [
              "<Figure size 432x432 with 1 Axes>"
            ],
            "image/png": "[encoded data removed]"
          },
          "metadata": {
            "needs_background": "light"
          }
        }
      ],
      "source": [
        "plt.figure(figsize=(6,6))\n",
        "plt.scatter(data['FE'], data['TwoWheelDrive_Indicator'], s=8, alpha=0.5)\n",
        "plt.xlabel('Fuel Efficiency')\n",
        "plt.ylabel('Two-Wheel Drive Indicator')\n",
        "plt.title('Scatter Plot')\n",
        "\n",
        "# add probability curve to scatterplot \n",
        "xseq = np.linspace(15, 72, num=100)\n",
        "y_prob = logr.predict_proba(pd.DataFrame({'FE':xseq}))\n",
        "plt.plot(xseq, [i[1] for i in y_prob], ls='dashed', c='r')"
      ]
    },
    {
      "cell_type": "code",
      "execution_count": null,
      "id": "934e34c6",
      "metadata": {
        "colab": {
          "base_uri": "https://localhost:8080/",
          "height": 296
        },
        "id": "934e34c6",
        "outputId": "ced80771-9532-47d2-91c1-a6e4b8527854"
      },
      "outputs": [
        {
          "output_type": "execute_result",
          "data": {
            "text/plain": [
              "<sklearn.metrics._plot.confusion_matrix.ConfusionMatrixDisplay at 0x7f9508f610d0>"
            ]
          },
          "metadata": {},
          "execution_count": 98
        },
        {
          "output_type": "display_data",
          "data": {
            "text/plain": [
              "<Figure size 432x288 with 2 Axes>"
            ],
            "image/png": "[encoded data removed]"
          },
          "metadata": {
            "needs_background": "light"
          }
        }
      ],
      "source": [
        "from sklearn.metrics import confusion_matrix, ConfusionMatrixDisplay\n",
        "# This is another way to judge success, we want to see where the errors of our model occur\n",
        "disp = ConfusionMatrixDisplay(confusion_matrix(y_train, y_pred))\n",
        "disp.plot()\n",
        "# we want to see lots of data on the diagonal, our highest volume is in lower right. We predicted 2WD 243 times when it was 4WD"
      ]
    },
    {
      "cell_type": "code",
      "execution_count": null,
      "id": "5499708b",
      "metadata": {
        "colab": {
          "base_uri": "https://localhost:8080/"
        },
        "id": "5499708b",
        "outputId": "359ada1e-2db7-4e08-8aec-61b2e19fa95e"
      },
      "outputs": [
        {
          "output_type": "execute_result",
          "data": {
            "text/plain": [
              "0.8491418247515808"
            ]
          },
          "metadata": {},
          "execution_count": 99
        }
      ],
      "source": [
        "from sklearn.compose import make_column_transformer\n",
        "\n",
        "y_train = data['TwoWheelDrive_Indicator']\n",
        "X_train = data.copy().drop(columns=['TwoWheelDrive_Indicator'])\n",
        "\n",
        "# Let's try again with more predictor variables\n",
        "ct = make_column_transformer(\n",
        "    ('passthrough', ['FE']), # FE will be a predictor, as well as many others, we're onehotencoding the carline descrip\n",
        "    (OneHotEncoder(sparse=False), ['CarlineClassDesc'])\n",
        ")\n",
        "# The column transformer is choosing variables and transforming them\n",
        "X_train_trans = ct.fit_transform(X_train)\n",
        "\n",
        "logr = LogisticRegression(max_iter=500) # Prof ran without max_iter and it popped an error, default is 100 iters\n",
        "\n",
        "logr.fit(X_train_trans, y_train)\n",
        "y_pred = logr.predict(X_train_trans)\n",
        "logr.score(X_train_trans, y_train)"
      ]
    },
    {
      "cell_type": "code",
      "execution_count": null,
      "id": "465edb41",
      "metadata": {
        "colab": {
          "base_uri": "https://localhost:8080/",
          "height": 299
        },
        "id": "465edb41",
        "outputId": "a024b41c-a920-4cd7-eb3e-6aa35bbe435a"
      },
      "outputs": [
        {
          "output_type": "execute_result",
          "data": {
            "text/plain": [
              "<sklearn.metrics._plot.confusion_matrix.ConfusionMatrixDisplay at 0x7f9508f06a10>"
            ]
          },
          "metadata": {},
          "execution_count": 100
        },
        {
          "output_type": "display_data",
          "data": {
            "text/plain": [
              "<Figure size 432x288 with 2 Axes>"
            ],
            "image/png": "[encoded data removed]"
          },
          "metadata": {
            "needs_background": "light"
          }
        }
      ],
      "source": [
        "from sklearn.metrics import confusion_matrix, ConfusionMatrixDisplay\n",
        "\n",
        "disp = ConfusionMatrixDisplay(confusion_matrix(y_train, y_pred))\n",
        "disp.plot()\n",
        "# This looks much better"
      ]
    },
    {
      "cell_type": "code",
      "execution_count": null,
      "id": "4a11ff16",
      "metadata": {
        "colab": {
          "base_uri": "https://localhost:8080/"
        },
        "id": "4a11ff16",
        "outputId": "6a31f0e4-fde3-49a6-82ef-2ddf5ea25d75"
      },
      "outputs": [
        {
          "output_type": "execute_result",
          "data": {
            "text/plain": [
              "0.7673469387755102"
            ]
          },
          "metadata": {},
          "execution_count": 102
        }
      ],
      "source": [
        "# Test the model on new data\n",
        "\n",
        "import pandas as pd\n",
        "\n",
        "new_data = pd.read_csv('/content/drive/MyDrive/Predictive Modeling/cars2011.csv')\n",
        "\n",
        "new_data['TwoWheelDrive_Indicator'] = \\\n",
        "[1 if (i == 'TwoWheelDriveFront') | (i == 'TwoWheelDriveRear') else 0 for i in new_data['DriveDesc']]\n",
        "\n",
        "y_test = new_data['TwoWheelDrive_Indicator']\n",
        "X_test = new_data.copy().drop(columns=['TwoWheelDrive_Indicator'])\n",
        "\n",
        "X_test_trans = ct.transform(X_test) # we don't need to fit column transformer since it was done previously with the training data\n",
        "\n",
        "logr.score(X_test_trans, y_test) # We're testing on the new data to see how the model generalizes. We're pretty much repeating previous steps\n",
        "# score isn't as good, the model didn't generalize as well and we're likely overfitting"
      ]
    },
    {
      "cell_type": "code",
      "execution_count": null,
      "id": "9466db50",
      "metadata": {
        "colab": {
          "base_uri": "https://localhost:8080/"
        },
        "id": "9466db50",
        "outputId": "922cfa69-cd5d-45fb-f340-4e242b2899ea"
      },
      "outputs": [
        {
          "output_type": "execute_result",
          "data": {
            "text/plain": [
              "0.7353206865401988"
            ]
          },
          "metadata": {},
          "execution_count": 103
        }
      ],
      "source": [
        "# Next, let's try a multi-category classification model\n",
        "from sklearn.compose import make_column_transformer\n",
        "from sklearn.preprocessing import StandardScaler\n",
        "\n",
        "y_train = data['DriveDesc'] # we are also changing the response variable, it's more in depth than the 2wd indicator\n",
        "X_train = data.copy().drop(columns=['DriveDesc'])\n",
        "\n",
        "# Let's try again with more predictor variables\n",
        "ct = make_column_transformer(\n",
        "    (StandardScaler(), ['FE']), # We're adding in the fuel efficiency data\n",
        "    (OneHotEncoder(sparse=False), ['CarlineClassDesc'])\n",
        ")\n",
        "\n",
        "X_train_trans = ct.fit_transform(X_train)\n",
        "\n",
        "logr = LogisticRegression(max_iter=500)\n",
        "\n",
        "logr.fit(X_train_trans, y_train)\n",
        "y_pred = logr.predict(X_train_trans)\n",
        "logr.score(X_train_trans, y_train)\n",
        "# we only classified about 73 percent of the time, could be because model is more complex, we have 5 classes"
      ]
    },
    {
      "cell_type": "code",
      "execution_count": null,
      "id": "1ebcdec7",
      "metadata": {
        "scrolled": false,
        "colab": {
          "base_uri": "https://localhost:8080/",
          "height": 408
        },
        "id": "1ebcdec7",
        "outputId": "a5304d29-444d-4d19-97b6-25d1fb6770df"
      },
      "outputs": [
        {
          "output_type": "execute_result",
          "data": {
            "text/plain": [
              "<sklearn.metrics._plot.confusion_matrix.ConfusionMatrixDisplay at 0x7f9508d9a4d0>"
            ]
          },
          "metadata": {},
          "execution_count": 104
        },
        {
          "output_type": "display_data",
          "data": {
            "text/plain": [
              "<Figure size 432x288 with 2 Axes>"
            ],
            "image/png": "[encoded data removed]"
          },
          "metadata": {
            "needs_background": "light"
          }
        }
      ],
      "source": [
        "from sklearn.metrics import confusion_matrix, ConfusionMatrixDisplay\n",
        "\n",
        "disp = ConfusionMatrixDisplay(confusion_matrix(y_train, y_pred), display_labels=logr.classes_)\n",
        "disp.plot(xticks_rotation=90)\n",
        "# Brightest colors on the diagonal, which is a good result"
      ]
    },
    {
      "cell_type": "code",
      "execution_count": null,
      "id": "4ae43b15",
      "metadata": {
        "colab": {
          "base_uri": "https://localhost:8080/"
        },
        "id": "4ae43b15",
        "outputId": "7306833b-04d1-487b-b8ea-34f5211f38a2"
      },
      "outputs": [
        {
          "output_type": "execute_result",
          "data": {
            "text/plain": [
              "TwoWheelDriveFront        382\n",
              "TwoWheelDriveRear         350\n",
              "AllWheelDrive             205\n",
              "FourWheelDrive            159\n",
              "ParttimeFourWheelDrive     11\n",
              "Name: DriveDesc, dtype: int64"
            ]
          },
          "metadata": {},
          "execution_count": 105
        }
      ],
      "source": [
        "data['DriveDesc'].value_counts()"
      ]
    },
    {
      "cell_type": "code",
      "execution_count": null,
      "id": "ca26eb91",
      "metadata": {
        "colab": {
          "base_uri": "https://localhost:8080/"
        },
        "id": "ca26eb91",
        "outputId": "6a74d5ab-43ed-4933-c5f5-573b9d275624"
      },
      "outputs": [
        {
          "output_type": "execute_result",
          "data": {
            "text/plain": [
              "0.7387755102040816"
            ]
          },
          "metadata": {},
          "execution_count": 106
        }
      ],
      "source": [
        "# Test on new data\n",
        "\n",
        "y_test = new_data['DriveDesc']\n",
        "X_test = new_data.loc[:, ['FE', 'CarlineClassDesc']]\n",
        "\n",
        "X_test_trans = ct.transform(X_test)\n",
        "\n",
        "logr.score(X_test_trans, y_test)\n",
        "# The score on new data is almost as good as training, the model generalized well"
      ]
    },
    {
      "cell_type": "markdown",
      "id": "3594e6c8",
      "metadata": {
        "id": "3594e6c8"
      },
      "source": [
        "## Student Practice Exercises"
      ]
    },
    {
      "cell_type": "code",
      "execution_count": null,
      "id": "4f9e23a5",
      "metadata": {
        "colab": {
          "base_uri": "https://localhost:8080/"
        },
        "id": "4f9e23a5",
        "outputId": "1274940f-9491-47d2-8f76-9e0d2c166301"
      },
      "outputs": [
        {
          "output_type": "execute_result",
          "data": {
            "text/plain": [
              "36 months    119377\n",
              "60 months     58164\n",
              "Name: term, dtype: int64"
            ]
          },
          "metadata": {},
          "execution_count": 18
        }
      ],
      "source": [
        "# 1\n",
        "\n",
        "# Use pandas function read_csv to load data from the file 'fabricatedLoanData.csv' into a dataframe named 'data'.\n",
        "# The file can be downloaded from the Week 1 module in Brightspace. Data definitions are provided in the file \n",
        "# named LCDataDictionary.xlsx\n",
        "\n",
        "import pandas as pd\n",
        "data = pd.read_csv('/content/drive/MyDrive/Predictive Modeling/fabricatedLoanData.csv')\n",
        "\n",
        "# Use the value_counts function to display distinct values of the term column along with their frequncies in \n",
        "# the data set\n",
        "\n",
        "\n",
        "\n",
        "data['term'].value_counts()"
      ]
    },
    {
      "cell_type": "code",
      "execution_count": null,
      "id": "66f10127",
      "metadata": {
        "id": "66f10127",
        "colab": {
          "base_uri": "https://localhost:8080/",
          "height": 422
        },
        "outputId": "5143002b-6884-4da2-9b52-d6293da33b15"
      },
      "outputs": [
        {
          "output_type": "execute_result",
          "data": {
            "text/plain": [
              "<matplotlib.legend.Legend at 0x7ff945912090>"
            ]
          },
          "metadata": {},
          "execution_count": 21
        },
        {
          "output_type": "display_data",
          "data": {
            "text/plain": [
              "<Figure size 432x432 with 1 Axes>"
            ],
            "image/png": "[encoded data removed]"
          },
          "metadata": {
            "needs_background": "light"
          }
        }
      ],
      "source": [
        "# 2\n",
        "\n",
        "# Create a scatter plot of installment versus loan_amnt with points shown in different\n",
        "# colors, each color corresponding to a particular value of the term column, do not need to transform to int this time\n",
        "levels = pd.factorize(data['term'])\n",
        "levels\n",
        "levels[1].tolist()\n",
        "\n",
        "import matplotlib.pyplot as plt\n",
        "\n",
        "# Example scatter plot with multiple categories\n",
        "plt.figure(figsize=(6,6))\n",
        "levels=pd.factorize(data['term'])\n",
        "scatter = plt.scatter(data['loan_amnt'], data['installment'], s=8, alpha=0.5,\n",
        "                      c=levels[0], cmap='Dark2')\n",
        "plt.xlabel('loan_amount')\n",
        "plt.ylabel('Installment')\n",
        "plt.title('Scatter Plot')\n",
        "plt.legend(handles=scatter.legend_elements()[0], labels=levels[1].tolist())"
      ]
    },
    {
      "cell_type": "code",
      "execution_count": null,
      "id": "91599bac",
      "metadata": {
        "id": "91599bac",
        "colab": {
          "base_uri": "https://localhost:8080/"
        },
        "outputId": "bf26d84d-e010-42ac-a037-8d382a7dbdfc"
      },
      "outputs": [
        {
          "output_type": "stream",
          "name": "stdout",
          "text": [
            "                            OLS Regression Results                            \n",
            "==============================================================================\n",
            "Dep. Variable:            installment   R-squared:                       0.910\n",
            "Model:                            OLS   Adj. R-squared:                  0.910\n",
            "Method:                 Least Squares   F-statistic:                 8.963e+05\n",
            "Date:                Wed, 07 Sep 2022   Prob (F-statistic):               0.00\n",
            "Time:                        18:23:15   Log-Likelihood:            -1.0481e+06\n",
            "No. Observations:              177541   AIC:                         2.096e+06\n",
            "Df Residuals:                  177538   BIC:                         2.096e+06\n",
            "Df Model:                           2                                         \n",
            "Covariance Type:            nonrobust                                         \n",
            "==================================================================================\n",
            "                     coef    std err          t      P>|t|      [0.025      0.975]\n",
            "----------------------------------------------------------------------------------\n",
            "const             37.4739      0.480     78.150      0.000      36.534      38.414\n",
            "loan_amnt          0.0307   2.29e-05   1338.273      0.000       0.031       0.031\n",
            "term_60 months  -130.2501      0.462   -282.083      0.000    -131.155    -129.345\n",
            "==============================================================================\n",
            "Omnibus:                     4228.927   Durbin-Watson:                   1.997\n",
            "Prob(Omnibus):                  0.000   Jarque-Bera (JB):             5916.453\n",
            "Skew:                           0.276   Prob(JB):                         0.00\n",
            "Kurtosis:                       3.704   Cond. No.                     5.04e+04\n",
            "==============================================================================\n",
            "\n",
            "Notes:\n",
            "[1] Standard Errors assume that the covariance matrix of the errors is correctly specified.\n",
            "[2] The condition number is large, 5.04e+04. This might indicate that there are\n",
            "strong multicollinearity or other numerical problems.\n"
          ]
        },
        {
          "output_type": "stream",
          "name": "stderr",
          "text": [
            "/usr/local/lib/python3.7/dist-packages/statsmodels/tsa/tsatools.py:142: FutureWarning: In a future version of pandas all arguments of concat except for the argument 'objs' will be keyword-only\n",
            "  x = pd.concat(x[::order], 1)\n"
          ]
        }
      ],
      "source": [
        "# 3\n",
        "\n",
        "# Using pd.get_dummies and sm.OLS, print the summary of a regression analysis for \n",
        "# installment as a linear function of loan_amount and term.\n",
        "\n",
        "import statsmodels.api as sm\n",
        "\n",
        "y = data['installment']\n",
        "X = pd.get_dummies(data.loc[:, ['loan_amnt', 'term']], drop_first=True)\n",
        "X = sm.add_constant(X)  # Add intercept term to model\n",
        "#X['EngDisplSqr'] = X['EngDispl']**2 # Add a quadratic term to model\n",
        "model = sm.OLS(y, X)\n",
        "results = model.fit()\n",
        "print(results.summary())"
      ]
    },
    {
      "cell_type": "code",
      "execution_count": null,
      "id": "6e8ae3b4",
      "metadata": {
        "id": "6e8ae3b4",
        "colab": {
          "base_uri": "https://localhost:8080/"
        },
        "outputId": "4668d948-69f6-4718-9318-f90869176e27"
      },
      "outputs": [
        {
          "output_type": "stream",
          "name": "stdout",
          "text": [
            "                            OLS Regression Results                            \n",
            "==============================================================================\n",
            "Dep. Variable:            installment   R-squared:                       0.924\n",
            "Model:                            OLS   Adj. R-squared:                  0.924\n",
            "Method:                 Least Squares   F-statistic:                 7.211e+05\n",
            "Date:                Wed, 07 Sep 2022   Prob (F-statistic):               0.00\n",
            "Time:                        18:25:02   Log-Likelihood:            -1.0328e+06\n",
            "No. Observations:              177541   AIC:                         2.066e+06\n",
            "Df Residuals:                  177537   BIC:                         2.066e+06\n",
            "Df Model:                           3                                         \n",
            "Covariance Type:            nonrobust                                         \n",
            "==================================================================================\n",
            "                     coef    std err          t      P>|t|      [0.025      0.975]\n",
            "----------------------------------------------------------------------------------\n",
            "const            -52.2993      0.659    -79.314      0.000     -53.592     -51.007\n",
            "loan_amnt          0.0305    2.1e-05   1449.479      0.000       0.030       0.031\n",
            "int_rate           7.2440      0.040    182.763      0.000       7.166       7.322\n",
            "term_60 months  -150.9088      0.438   -344.200      0.000    -151.768    -150.049\n",
            "==============================================================================\n",
            "Omnibus:                     8606.913   Durbin-Watson:                   1.999\n",
            "Prob(Omnibus):                  0.000   Jarque-Bera (JB):            14018.856\n",
            "Skew:                           0.415   Prob(JB):                         0.00\n",
            "Kurtosis:                       4.099   Cond. No.                     7.39e+04\n",
            "==============================================================================\n",
            "\n",
            "Notes:\n",
            "[1] Standard Errors assume that the covariance matrix of the errors is correctly specified.\n",
            "[2] The condition number is large, 7.39e+04. This might indicate that there are\n",
            "strong multicollinearity or other numerical problems.\n"
          ]
        },
        {
          "output_type": "stream",
          "name": "stderr",
          "text": [
            "/usr/local/lib/python3.7/dist-packages/statsmodels/tsa/tsatools.py:142: FutureWarning: In a future version of pandas all arguments of concat except for the argument 'objs' will be keyword-only\n",
            "  x = pd.concat(x[::order], 1)\n"
          ]
        }
      ],
      "source": [
        "# 4\n",
        "\n",
        "# Using pd.get_dummies and sm.OLS, print the summary of a regression analysis for \n",
        "# installment as a linear function of loan_amount, int_rate and term.\n",
        "\n",
        "y = data['installment']\n",
        "X = pd.get_dummies(data.loc[:, ['loan_amnt', 'term', 'int_rate']], drop_first=True)\n",
        "X = sm.add_constant(X)  # Add intercept term to model\n",
        "#X['EngDisplSqr'] = X['EngDispl']**2 # Add a quadratic term to model\n",
        "model = sm.OLS(y, X)\n",
        "results = model.fit()\n",
        "print(results.summary())"
      ]
    },
    {
      "cell_type": "code",
      "execution_count": null,
      "id": "dbbd9321",
      "metadata": {
        "id": "dbbd9321",
        "colab": {
          "base_uri": "https://localhost:8080/"
        },
        "outputId": "0c2c68f9-5cb0-44c1-cc78-f42320b54feb"
      },
      "outputs": [
        {
          "output_type": "stream",
          "name": "stderr",
          "text": [
            "/usr/local/lib/python3.7/dist-packages/statsmodels/tsa/tsatools.py:142: FutureWarning: In a future version of pandas all arguments of concat except for the argument 'objs' will be keyword-only\n",
            "  x = pd.concat(x[::order], 1)\n"
          ]
        },
        {
          "output_type": "stream",
          "name": "stdout",
          "text": [
            "                            OLS Regression Results                            \n",
            "==============================================================================\n",
            "Dep. Variable:            installment   R-squared:                       0.924\n",
            "Model:                            OLS   Adj. R-squared:                  0.924\n",
            "Method:                 Least Squares   F-statistic:                 1.803e+05\n",
            "Date:                Wed, 07 Sep 2022   Prob (F-statistic):               0.00\n",
            "Time:                        18:26:16   Log-Likelihood:            -1.0328e+06\n",
            "No. Observations:              177541   AIC:                         2.066e+06\n",
            "Df Residuals:                  177528   BIC:                         2.066e+06\n",
            "Df Model:                          12                                         \n",
            "Covariance Type:            nonrobust                                         \n",
            "==============================================================================================\n",
            "                                 coef    std err          t      P>|t|      [0.025      0.975]\n",
            "----------------------------------------------------------------------------------------------\n",
            "const                        -52.0660      0.742    -70.207      0.000     -53.520     -50.613\n",
            "loan_amnt                      0.0305   2.11e-05   1442.066      0.000       0.030       0.031\n",
            "int_rate                       7.2438      0.040    182.068      0.000       7.166       7.322\n",
            "term_60 months              -150.9106      0.438   -344.182      0.000    -151.770    -150.051\n",
            "purpose_credit_card           -0.5009      0.649     -0.772      0.440      -1.773       0.771\n",
            "purpose_debt_consolidation    -0.1247      0.483     -0.258      0.796      -1.071       0.821\n",
            "purpose_home_improvement      -0.3157      1.171     -0.270      0.788      -2.612       1.980\n",
            "purpose_house                 -5.7957      2.179     -2.659      0.008     -10.067      -1.524\n",
            "purpose_major_purchase         2.5595      9.101      0.281      0.779     -15.277      20.396\n",
            "purpose_medical              -38.5869     25.718     -1.500      0.134     -88.993      11.819\n",
            "purpose_other                 -0.1117      1.781     -0.063      0.950      -3.603       3.380\n",
            "purpose_renewable_energy     -54.6377     33.200     -1.646      0.100    -119.709      10.433\n",
            "purpose_small_business       -11.5330     23.477     -0.491      0.623     -57.548      34.482\n",
            "==============================================================================\n",
            "Omnibus:                     8609.000   Durbin-Watson:                   1.999\n",
            "Prob(Omnibus):                  0.000   Jarque-Bera (JB):            14026.730\n",
            "Skew:                           0.415   Prob(JB):                         0.00\n",
            "Kurtosis:                       4.099   Cond. No.                     3.69e+06\n",
            "==============================================================================\n",
            "\n",
            "Notes:\n",
            "[1] Standard Errors assume that the covariance matrix of the errors is correctly specified.\n",
            "[2] The condition number is large, 3.69e+06. This might indicate that there are\n",
            "strong multicollinearity or other numerical problems.\n"
          ]
        }
      ],
      "source": [
        "# 5\n",
        "\n",
        "# Using pd.get_dummies and sm.OLS, print the summary of a regression analysis for \n",
        "# installment as a linear function of loan_amount, int_rate, purpose and term.\n",
        "\n",
        "y = data['installment']\n",
        "X = pd.get_dummies(data.loc[:, ['loan_amnt', 'term', 'int_rate', 'purpose']], drop_first=True)\n",
        "X = sm.add_constant(X)  # Add intercept term to model\n",
        "#X['EngDisplSqr'] = X['EngDispl']**2 # Add a quadratic term to model\n",
        "model = sm.OLS(y, X)\n",
        "results = model.fit()\n",
        "print(results.summary())"
      ]
    },
    {
      "cell_type": "code",
      "execution_count": null,
      "id": "6ee3814a",
      "metadata": {
        "id": "6ee3814a"
      },
      "outputs": [],
      "source": [
        "# 6\n",
        "\n",
        "# Run the following code to prepare data for regression models in scikit-learn by dividing \n",
        "# it into train and test data sets.\n",
        "\n",
        "from sklearn.model_selection import train_test_split\n",
        "y = data['installment']\n",
        "X = data.copy().drop(columns=['installment'])\n",
        "X_train, X_test, y_train, y_test = train_test_split(X, y, random_state=0)\n",
        "\n",
        "# Next, complete the code below to pass through the variables loan_amnt and int_rate and\n",
        "# transform term and purpose into one-hot-encoded variables. The resulting date set, \n",
        "# X_train_trans will be used to train a regression model for installment as a function \n",
        "# of loan_amount, int_rate, purpose and term using sklearn.\n",
        "\n",
        "from sklearn.compose import make_column_transformer\n",
        "from sklearn.preprocessing import OneHotEncoder\n",
        "\n",
        "ct = make_column_transformer(\n",
        "    ('passthrough', ['loan_amnt', 'int_rate']),\n",
        "    (OneHotEncoder(sparse=False), ['term', 'purpose'])\n",
        ")\n",
        "X_train_trans = ct.fit_transform(X_train)"
      ]
    },
    {
      "cell_type": "code",
      "execution_count": null,
      "id": "47bebeab",
      "metadata": {
        "id": "47bebeab",
        "colab": {
          "base_uri": "https://localhost:8080/"
        },
        "outputId": "7967964c-20fe-4ce1-e515-4e1f10541f56"
      },
      "outputs": [
        {
          "output_type": "execute_result",
          "data": {
            "text/plain": [
              "0.9240117080764182"
            ]
          },
          "metadata": {},
          "execution_count": 30
        }
      ],
      "source": [
        "# 7\n",
        "\n",
        "# Fit a regression model for installment as a function of loan_amount, int_rate, purpose and term.\n",
        "# Print the r-square score resulting from your fit to the transformed training data set\n",
        "\n",
        "from sklearn.linear_model import LinearRegression\n",
        "from sklearn import linear_model\n",
        "\n",
        "regr = linear_model.LinearRegression()\n",
        "regr.fit(X_train_trans, y_train)\n",
        "regr.score(X_train_trans, y_train)"
      ]
    },
    {
      "cell_type": "code",
      "execution_count": null,
      "id": "6f8e4ee9",
      "metadata": {
        "id": "6f8e4ee9",
        "colab": {
          "base_uri": "https://localhost:8080/"
        },
        "outputId": "19f2bf29-8953-4fb0-8f5a-a95a4e5612b6"
      },
      "outputs": [
        {
          "output_type": "execute_result",
          "data": {
            "text/plain": [
              "0.9246295995933047"
            ]
          },
          "metadata": {},
          "execution_count": 31
        }
      ],
      "source": [
        "# 8\n",
        "\n",
        "# Test your model using X_test and y_test data sets created above via train_test_split\n",
        "# Pass X_test through the column transformer to create X_test_trans,\n",
        "# then calcualate the test score \n",
        "X_test_trans = ct.fit_transform(X_test)\n",
        "regr = linear_model.LinearRegression()\n",
        "regr.fit(X_test_trans, y_test)\n",
        "regr.score(X_test_trans, y_test)"
      ]
    },
    {
      "cell_type": "code",
      "execution_count": null,
      "id": "4eaff2e8",
      "metadata": {
        "id": "4eaff2e8",
        "colab": {
          "base_uri": "https://localhost:8080/"
        },
        "outputId": "54ebe54c-a28a-4587-9c20-3d12d04d5d82"
      },
      "outputs": [
        {
          "output_type": "execute_result",
          "data": {
            "text/plain": [
              "Current               73761\n",
              "Late (31-120 days)    51271\n",
              "Late (16-30 days)     29317\n",
              "Fully Paid            13239\n",
              "In Grace Period        6994\n",
              "Charged Off            2356\n",
              "Default                 603\n",
              "Name: loan_status, dtype: int64"
            ]
          },
          "metadata": {},
          "execution_count": 32
        }
      ],
      "source": [
        "# 9\n",
        "\n",
        "# Use the value_counts function to display distinct values of the loan_status column along with their frequncies in \n",
        "# the data set\n",
        "\n",
        "data['loan_status'].value_counts()"
      ]
    },
    {
      "cell_type": "code",
      "execution_count": null,
      "id": "7d8c7e92",
      "metadata": {
        "id": "7d8c7e92"
      },
      "outputs": [],
      "source": [
        "# 10\n",
        "\n",
        "# Write code below to populate lists called str_vars_nmv and num_vars_nmv.\n",
        "# The list str_vars_nmv should contain a list of column names in data which \n",
        "# are string variables (dtype = 'object'), excluding the variables loan_status,\n",
        "# issue_d, last_credit_pull_d and earliest_cr_line (which contain date strings),\n",
        "# which have no missing values. The list num_vars_nmv should contain a list of \n",
        "# column names in data which are numeric and have no missing values.\n",
        "# These will be used in a logistic regression model to predict loan_status\n",
        "\n",
        "# Initialize\n",
        "str_vars_nmv = [] # String variables with no missing values, excluding loan_status and date strings\n",
        "num_vars_nmv = [] # Numeric variables with no missing values\n",
        "\n",
        "# Loop through data.columns and append the column to the apprpriate str_vars_nmv or num_vars_nmv\n",
        "# if the conditions are met\n",
        "for col, typ in data.dtypes.items():\n",
        "  if col not in ('loan_status', 'issue_d', 'last_credit_pull_d', 'earliest_cr_line') and typ == 'object' and not data[col].isna().values.any():\n",
        "    str_vars_nmv.append(col)\n",
        "  elif typ in ('int64', 'float64') and not data[col].isna().values.any():\n",
        "    num_vars_nmv.append(col)\n",
        "    "
      ]
    },
    {
      "cell_type": "code",
      "execution_count": null,
      "id": "9909ca00",
      "metadata": {
        "id": "9909ca00"
      },
      "outputs": [],
      "source": [
        "# 11\n",
        "\n",
        "# Run the following code to prepare data for a logistic regression model in scikit-learn \n",
        "# by dividing it into train and test data sets. The reponse variable we will be predicting\n",
        "# is loan_status\n",
        "\n",
        "from sklearn.model_selection import train_test_split\n",
        "y = data['loan_status']\n",
        "X = data.copy().drop(columns=['loan_status'])\n",
        "X_train, X_test, y_train, y_test = train_test_split(X, y, random_state=0)\n",
        "\n",
        "# Next, complete the code below to pass all variables through a column transformer\n",
        "# to build predictor variables for the logistic regression model. Numeric variables\n",
        "# with no missing values (stored in the list num_vars_nmv) should be passed through\n",
        "# the standard scaler transformation. String variables with no missing values (stored \n",
        "# in the list str_vars_nmv) should be passsed through the one-hot-encoder transformer.\n",
        "# All remaining variables (those containing missing values) should be dropped.\n",
        "\n",
        "from sklearn.compose import make_column_transformer\n",
        "from sklearn.preprocessing import StandardScaler\n",
        "\n",
        "ct = make_column_transformer(\n",
        "  (StandardScaler(), num_vars_nmv),\n",
        "  (OneHotEncoder(sparse=False), str_vars_nmv),\n",
        "  remainder='drop'\n",
        ")\n",
        "\n",
        "X_train_trans = ct.fit_transform(X_train)\n"
      ]
    },
    {
      "cell_type": "code",
      "execution_count": null,
      "id": "d30280d0",
      "metadata": {
        "id": "d30280d0"
      },
      "outputs": [],
      "source": [
        "# 12\n",
        "\n",
        "# Fit a logistic regression model for loan_status as a function of all predictors stored\n",
        "# X_train_trans\n",
        "\n",
        "from sklearn.linear_model import LogisticRegression\n",
        "\n",
        "from sklearn.linear_model import LogisticRegression\n",
        "\n",
        "model = LogisticRegression(max_iter=400)\n",
        "\n",
        "model.fit(X_train_trans, y_train)\n"
      ]
    },
    {
      "cell_type": "code",
      "execution_count": null,
      "id": "3c72d1b2",
      "metadata": {
        "id": "3c72d1b2"
      },
      "outputs": [],
      "source": [
        "# 13\n",
        "\n",
        "# Calculate predicted values of loan_status from the variables in X_train_trans and\n",
        "# display the confusion matrix calculated from the training data\n",
        "\n",
        "from sklearn.metrics import confusion_matrix, ConfusionMatrixDisplay\n",
        "prediction = model.predict(X_train_trans)\n",
        "cm = confusion_matrix(y_train, prediction, labels=model.classes_)\n",
        "disp = ConfusionMatrixDisplay(confusion_matrix=cm, display_labels=model.classes_)\n",
        "disp.plot(xticks_rotation='vertical')\n",
        "\n"
      ]
    },
    {
      "cell_type": "code",
      "execution_count": null,
      "id": "3777f29d",
      "metadata": {
        "id": "3777f29d"
      },
      "outputs": [],
      "source": [
        "# 14\n",
        "\n",
        "# Test your logistic regression model using data in X_test and y_test\n",
        "# Pass X_test through the column transformer to create X_test_trans,\n",
        "# then calcualate the test score \n",
        "\n",
        "X_test_trans = ct.transform(X_test)\n",
        "\n",
        "score = model.score(X_test_trans, y_test)\n",
        "\n",
        "print(score)\n"
      ]
    },
    {
      "cell_type": "code",
      "execution_count": null,
      "id": "f29ab968",
      "metadata": {
        "id": "f29ab968"
      },
      "outputs": [],
      "source": [
        "# 15\n",
        "\n",
        "# Calculate predicted values of loan_status from the variables in X_test_trans and\n",
        "# display the confusion matrix calculated from the test data\n",
        "prediction = model.predict(X_test_trans)\n",
        "cm = confusion_matrix(y_test, prediction, labels=model.classes_)\n",
        "disp = ConfusionMatrixDisplay(confusion_matrix=cm, display_labels=model.classes_)\n",
        "disp.plot(xticks_rotation='vertical'\n",
        "\n"
      ]
    }
  ],
  "metadata": {
    "kernelspec": {
      "display_name": "Python 3 (ipykernel)",
      "language": "python",
      "name": "python3"
    },
    "language_info": {
      "codemirror_mode": {
        "name": "ipython",
        "version": 3
      },
      "file_extension": ".py",
      "mimetype": "text/x-python",
      "name": "python",
      "nbconvert_exporter": "python",
      "pygments_lexer": "ipython3",
      "version": "3.9.12"
    },
    "colab": {
      "provenance": [],
      "include_colab_link": true
    }
  },
  "nbformat": 4,
  "nbformat_minor": 5
}